{
  "nbformat": 4,
  "nbformat_minor": 0,
  "metadata": {
    "colab": {
      "provenance": [],
      "toc_visible": true
    },
    "kernelspec": {
      "name": "python3",
      "display_name": "Python 3"
    },
    "language_info": {
      "name": "python"
    }
  },
  "cells": [
    {
      "cell_type": "markdown",
      "source": [
        "### **Predicción:** ¿Cúantas veces será compartido un artículo del Blog?"
      ],
      "metadata": {
        "id": "zWpPwmzqL_jM"
      }
    },
    {
      "cell_type": "code",
      "source": [
        "from google.colab import drive\n",
        "drive.mount('/content/drive')"
      ],
      "metadata": {
        "id": "EEDu7lhhFByX"
      },
      "execution_count": null,
      "outputs": []
    },
    {
      "cell_type": "code",
      "source": [
        "# Importamos pandas\n",
        "import pandas as pd"
      ],
      "metadata": {
        "id": "gk7Q9ADhOW3a"
      },
      "execution_count": null,
      "outputs": []
    },
    {
      "cell_type": "code",
      "source": [
        "#Cargamos los datos de entrada\n",
        "data = pd.read_csv(\"https://docs.google.com/spreadsheets/d/e/2PACX-1vQ2ecJo-6qlYA30-mTWPk7BRlbcI9zXrwJbDZeUIsvHHABdlqWA4R5P26-4W5GOk5EnoQlaWVoTaCEQ/pub?output=csv\")\n",
        "\n",
        "# Saber cuantas filas y columnas hay en la data\n",
        "data.shape # son 161 filas y 8 columnas"
      ],
      "metadata": {
        "id": "v5cFGSg1S7cv",
        "colab": {
          "base_uri": "https://localhost:8080/"
        },
        "outputId": "68ac1334-8d64-48cd-a553-39b60f8ed807"
      },
      "execution_count": null,
      "outputs": [
        {
          "output_type": "execute_result",
          "data": {
            "text/plain": [
              "(161, 8)"
            ]
          },
          "metadata": {},
          "execution_count": 2
        }
      ]
    },
    {
      "cell_type": "code",
      "source": [
        "# Veamos las primeras filas\n",
        "data.head()"
      ],
      "metadata": {
        "colab": {
          "base_uri": "https://localhost:8080/",
          "height": 206
        },
        "id": "ZpSHmhSIRViN",
        "outputId": "c14c3140-2b1d-4cd4-af89-243a6f811ef6"
      },
      "execution_count": null,
      "outputs": [
        {
          "output_type": "execute_result",
          "data": {
            "text/plain": [
              "                                               Title  \\\n",
              "0  What is Machine Learning and how do we use it ...   \n",
              "1   10 Companies Using Machine Learning in Cool Ways   \n",
              "2  How Artificial Intelligence Is Revolutionizing...   \n",
              "3  Dbrain and the Blockchain of Artificial Intell...   \n",
              "4  Nasa finds entire solar system filled with eig...   \n",
              "\n",
              "                                                 url  Word count  # of Links  \\\n",
              "0  https://blog.signals.network/what-is-machine-l...        1888           1   \n",
              "1                                                NaN        1742           9   \n",
              "2                                                NaN         962           6   \n",
              "3                                                NaN        1221           3   \n",
              "4                                                NaN        2039           1   \n",
              "\n",
              "   # of comments  # Images video  Elapsed days  # Shares  \n",
              "0            2.0               2            34    200000  \n",
              "1            NaN               9             5     25000  \n",
              "2            0.0               1            10     42000  \n",
              "3            NaN               2            68    200000  \n",
              "4          104.0               4           131    200000  "
            ],
            "text/html": [
              "\n",
              "  <div id=\"df-71cd5e11-7ca3-405e-b86c-a04ccc34f23b\">\n",
              "    <div class=\"colab-df-container\">\n",
              "      <div>\n",
              "<style scoped>\n",
              "    .dataframe tbody tr th:only-of-type {\n",
              "        vertical-align: middle;\n",
              "    }\n",
              "\n",
              "    .dataframe tbody tr th {\n",
              "        vertical-align: top;\n",
              "    }\n",
              "\n",
              "    .dataframe thead th {\n",
              "        text-align: right;\n",
              "    }\n",
              "</style>\n",
              "<table border=\"1\" class=\"dataframe\">\n",
              "  <thead>\n",
              "    <tr style=\"text-align: right;\">\n",
              "      <th></th>\n",
              "      <th>Title</th>\n",
              "      <th>url</th>\n",
              "      <th>Word count</th>\n",
              "      <th># of Links</th>\n",
              "      <th># of comments</th>\n",
              "      <th># Images video</th>\n",
              "      <th>Elapsed days</th>\n",
              "      <th># Shares</th>\n",
              "    </tr>\n",
              "  </thead>\n",
              "  <tbody>\n",
              "    <tr>\n",
              "      <th>0</th>\n",
              "      <td>What is Machine Learning and how do we use it ...</td>\n",
              "      <td>https://blog.signals.network/what-is-machine-l...</td>\n",
              "      <td>1888</td>\n",
              "      <td>1</td>\n",
              "      <td>2.0</td>\n",
              "      <td>2</td>\n",
              "      <td>34</td>\n",
              "      <td>200000</td>\n",
              "    </tr>\n",
              "    <tr>\n",
              "      <th>1</th>\n",
              "      <td>10 Companies Using Machine Learning in Cool Ways</td>\n",
              "      <td>NaN</td>\n",
              "      <td>1742</td>\n",
              "      <td>9</td>\n",
              "      <td>NaN</td>\n",
              "      <td>9</td>\n",
              "      <td>5</td>\n",
              "      <td>25000</td>\n",
              "    </tr>\n",
              "    <tr>\n",
              "      <th>2</th>\n",
              "      <td>How Artificial Intelligence Is Revolutionizing...</td>\n",
              "      <td>NaN</td>\n",
              "      <td>962</td>\n",
              "      <td>6</td>\n",
              "      <td>0.0</td>\n",
              "      <td>1</td>\n",
              "      <td>10</td>\n",
              "      <td>42000</td>\n",
              "    </tr>\n",
              "    <tr>\n",
              "      <th>3</th>\n",
              "      <td>Dbrain and the Blockchain of Artificial Intell...</td>\n",
              "      <td>NaN</td>\n",
              "      <td>1221</td>\n",
              "      <td>3</td>\n",
              "      <td>NaN</td>\n",
              "      <td>2</td>\n",
              "      <td>68</td>\n",
              "      <td>200000</td>\n",
              "    </tr>\n",
              "    <tr>\n",
              "      <th>4</th>\n",
              "      <td>Nasa finds entire solar system filled with eig...</td>\n",
              "      <td>NaN</td>\n",
              "      <td>2039</td>\n",
              "      <td>1</td>\n",
              "      <td>104.0</td>\n",
              "      <td>4</td>\n",
              "      <td>131</td>\n",
              "      <td>200000</td>\n",
              "    </tr>\n",
              "  </tbody>\n",
              "</table>\n",
              "</div>\n",
              "      <button class=\"colab-df-convert\" onclick=\"convertToInteractive('df-71cd5e11-7ca3-405e-b86c-a04ccc34f23b')\"\n",
              "              title=\"Convert this dataframe to an interactive table.\"\n",
              "              style=\"display:none;\">\n",
              "        \n",
              "  <svg xmlns=\"http://www.w3.org/2000/svg\" height=\"24px\"viewBox=\"0 0 24 24\"\n",
              "       width=\"24px\">\n",
              "    <path d=\"M0 0h24v24H0V0z\" fill=\"none\"/>\n",
              "    <path d=\"M18.56 5.44l.94 2.06.94-2.06 2.06-.94-2.06-.94-.94-2.06-.94 2.06-2.06.94zm-11 1L8.5 8.5l.94-2.06 2.06-.94-2.06-.94L8.5 2.5l-.94 2.06-2.06.94zm10 10l.94 2.06.94-2.06 2.06-.94-2.06-.94-.94-2.06-.94 2.06-2.06.94z\"/><path d=\"M17.41 7.96l-1.37-1.37c-.4-.4-.92-.59-1.43-.59-.52 0-1.04.2-1.43.59L10.3 9.45l-7.72 7.72c-.78.78-.78 2.05 0 2.83L4 21.41c.39.39.9.59 1.41.59.51 0 1.02-.2 1.41-.59l7.78-7.78 2.81-2.81c.8-.78.8-2.07 0-2.86zM5.41 20L4 18.59l7.72-7.72 1.47 1.35L5.41 20z\"/>\n",
              "  </svg>\n",
              "      </button>\n",
              "      \n",
              "  <style>\n",
              "    .colab-df-container {\n",
              "      display:flex;\n",
              "      flex-wrap:wrap;\n",
              "      gap: 12px;\n",
              "    }\n",
              "\n",
              "    .colab-df-convert {\n",
              "      background-color: #E8F0FE;\n",
              "      border: none;\n",
              "      border-radius: 50%;\n",
              "      cursor: pointer;\n",
              "      display: none;\n",
              "      fill: #1967D2;\n",
              "      height: 32px;\n",
              "      padding: 0 0 0 0;\n",
              "      width: 32px;\n",
              "    }\n",
              "\n",
              "    .colab-df-convert:hover {\n",
              "      background-color: #E2EBFA;\n",
              "      box-shadow: 0px 1px 2px rgba(60, 64, 67, 0.3), 0px 1px 3px 1px rgba(60, 64, 67, 0.15);\n",
              "      fill: #174EA6;\n",
              "    }\n",
              "\n",
              "    [theme=dark] .colab-df-convert {\n",
              "      background-color: #3B4455;\n",
              "      fill: #D2E3FC;\n",
              "    }\n",
              "\n",
              "    [theme=dark] .colab-df-convert:hover {\n",
              "      background-color: #434B5C;\n",
              "      box-shadow: 0px 1px 3px 1px rgba(0, 0, 0, 0.15);\n",
              "      filter: drop-shadow(0px 1px 2px rgba(0, 0, 0, 0.3));\n",
              "      fill: #FFFFFF;\n",
              "    }\n",
              "  </style>\n",
              "\n",
              "      <script>\n",
              "        const buttonEl =\n",
              "          document.querySelector('#df-71cd5e11-7ca3-405e-b86c-a04ccc34f23b button.colab-df-convert');\n",
              "        buttonEl.style.display =\n",
              "          google.colab.kernel.accessAllowed ? 'block' : 'none';\n",
              "\n",
              "        async function convertToInteractive(key) {\n",
              "          const element = document.querySelector('#df-71cd5e11-7ca3-405e-b86c-a04ccc34f23b');\n",
              "          const dataTable =\n",
              "            await google.colab.kernel.invokeFunction('convertToInteractive',\n",
              "                                                     [key], {});\n",
              "          if (!dataTable) return;\n",
              "\n",
              "          const docLinkHtml = 'Like what you see? Visit the ' +\n",
              "            '<a target=\"_blank\" href=https://colab.research.google.com/notebooks/data_table.ipynb>data table notebook</a>'\n",
              "            + ' to learn more about interactive tables.';\n",
              "          element.innerHTML = '';\n",
              "          dataTable['output_type'] = 'display_data';\n",
              "          await google.colab.output.renderOutput(dataTable, element);\n",
              "          const docLink = document.createElement('div');\n",
              "          docLink.innerHTML = docLinkHtml;\n",
              "          element.appendChild(docLink);\n",
              "        }\n",
              "      </script>\n",
              "    </div>\n",
              "  </div>\n",
              "  "
            ]
          },
          "metadata": {},
          "execution_count": 3
        }
      ]
    },
    {
      "cell_type": "markdown",
      "source": [
        "Vemos que algunos campos (por ejemplo en comentarios) tienen valores nulos.\n",
        "\n",
        "En nuestro caso la columna **Shares** será nuestra salida, es decir nuestro valor \"Y\", el valor que queremos predecir"
      ],
      "metadata": {
        "id": "T5WxkLMFUmT_"
      }
    },
    {
      "cell_type": "code",
      "source": [
        "# Veamos una estadística de los valores\n",
        "data.describe()"
      ],
      "metadata": {
        "colab": {
          "base_uri": "https://localhost:8080/",
          "height": 300
        },
        "id": "x_U86vRhUsXo",
        "outputId": "9db5cc7c-871f-4710-921c-73a64a607c99"
      },
      "execution_count": null,
      "outputs": [
        {
          "output_type": "execute_result",
          "data": {
            "text/plain": [
              "        Word count  # of Links  # of comments  # Images video  Elapsed days  \\\n",
              "count   161.000000  161.000000     129.000000      161.000000    161.000000   \n",
              "mean   1808.260870    9.739130       8.782946        3.670807     98.124224   \n",
              "std    1141.919385   47.271625      13.142822        3.418290    114.337535   \n",
              "min     250.000000    0.000000       0.000000        1.000000      1.000000   \n",
              "25%     990.000000    3.000000       2.000000        1.000000     31.000000   \n",
              "50%    1674.000000    5.000000       6.000000        3.000000     62.000000   \n",
              "75%    2369.000000    7.000000      12.000000        5.000000    124.000000   \n",
              "max    8401.000000  600.000000     104.000000       22.000000   1002.000000   \n",
              "\n",
              "            # Shares  \n",
              "count     161.000000  \n",
              "mean    27948.347826  \n",
              "std     43408.006839  \n",
              "min         0.000000  \n",
              "25%      2800.000000  \n",
              "50%     16458.000000  \n",
              "75%     35691.000000  \n",
              "max    350000.000000  "
            ],
            "text/html": [
              "\n",
              "  <div id=\"df-facb054d-80b6-4bee-9bfe-04839c85d8cc\">\n",
              "    <div class=\"colab-df-container\">\n",
              "      <div>\n",
              "<style scoped>\n",
              "    .dataframe tbody tr th:only-of-type {\n",
              "        vertical-align: middle;\n",
              "    }\n",
              "\n",
              "    .dataframe tbody tr th {\n",
              "        vertical-align: top;\n",
              "    }\n",
              "\n",
              "    .dataframe thead th {\n",
              "        text-align: right;\n",
              "    }\n",
              "</style>\n",
              "<table border=\"1\" class=\"dataframe\">\n",
              "  <thead>\n",
              "    <tr style=\"text-align: right;\">\n",
              "      <th></th>\n",
              "      <th>Word count</th>\n",
              "      <th># of Links</th>\n",
              "      <th># of comments</th>\n",
              "      <th># Images video</th>\n",
              "      <th>Elapsed days</th>\n",
              "      <th># Shares</th>\n",
              "    </tr>\n",
              "  </thead>\n",
              "  <tbody>\n",
              "    <tr>\n",
              "      <th>count</th>\n",
              "      <td>161.000000</td>\n",
              "      <td>161.000000</td>\n",
              "      <td>129.000000</td>\n",
              "      <td>161.000000</td>\n",
              "      <td>161.000000</td>\n",
              "      <td>161.000000</td>\n",
              "    </tr>\n",
              "    <tr>\n",
              "      <th>mean</th>\n",
              "      <td>1808.260870</td>\n",
              "      <td>9.739130</td>\n",
              "      <td>8.782946</td>\n",
              "      <td>3.670807</td>\n",
              "      <td>98.124224</td>\n",
              "      <td>27948.347826</td>\n",
              "    </tr>\n",
              "    <tr>\n",
              "      <th>std</th>\n",
              "      <td>1141.919385</td>\n",
              "      <td>47.271625</td>\n",
              "      <td>13.142822</td>\n",
              "      <td>3.418290</td>\n",
              "      <td>114.337535</td>\n",
              "      <td>43408.006839</td>\n",
              "    </tr>\n",
              "    <tr>\n",
              "      <th>min</th>\n",
              "      <td>250.000000</td>\n",
              "      <td>0.000000</td>\n",
              "      <td>0.000000</td>\n",
              "      <td>1.000000</td>\n",
              "      <td>1.000000</td>\n",
              "      <td>0.000000</td>\n",
              "    </tr>\n",
              "    <tr>\n",
              "      <th>25%</th>\n",
              "      <td>990.000000</td>\n",
              "      <td>3.000000</td>\n",
              "      <td>2.000000</td>\n",
              "      <td>1.000000</td>\n",
              "      <td>31.000000</td>\n",
              "      <td>2800.000000</td>\n",
              "    </tr>\n",
              "    <tr>\n",
              "      <th>50%</th>\n",
              "      <td>1674.000000</td>\n",
              "      <td>5.000000</td>\n",
              "      <td>6.000000</td>\n",
              "      <td>3.000000</td>\n",
              "      <td>62.000000</td>\n",
              "      <td>16458.000000</td>\n",
              "    </tr>\n",
              "    <tr>\n",
              "      <th>75%</th>\n",
              "      <td>2369.000000</td>\n",
              "      <td>7.000000</td>\n",
              "      <td>12.000000</td>\n",
              "      <td>5.000000</td>\n",
              "      <td>124.000000</td>\n",
              "      <td>35691.000000</td>\n",
              "    </tr>\n",
              "    <tr>\n",
              "      <th>max</th>\n",
              "      <td>8401.000000</td>\n",
              "      <td>600.000000</td>\n",
              "      <td>104.000000</td>\n",
              "      <td>22.000000</td>\n",
              "      <td>1002.000000</td>\n",
              "      <td>350000.000000</td>\n",
              "    </tr>\n",
              "  </tbody>\n",
              "</table>\n",
              "</div>\n",
              "      <button class=\"colab-df-convert\" onclick=\"convertToInteractive('df-facb054d-80b6-4bee-9bfe-04839c85d8cc')\"\n",
              "              title=\"Convert this dataframe to an interactive table.\"\n",
              "              style=\"display:none;\">\n",
              "        \n",
              "  <svg xmlns=\"http://www.w3.org/2000/svg\" height=\"24px\"viewBox=\"0 0 24 24\"\n",
              "       width=\"24px\">\n",
              "    <path d=\"M0 0h24v24H0V0z\" fill=\"none\"/>\n",
              "    <path d=\"M18.56 5.44l.94 2.06.94-2.06 2.06-.94-2.06-.94-.94-2.06-.94 2.06-2.06.94zm-11 1L8.5 8.5l.94-2.06 2.06-.94-2.06-.94L8.5 2.5l-.94 2.06-2.06.94zm10 10l.94 2.06.94-2.06 2.06-.94-2.06-.94-.94-2.06-.94 2.06-2.06.94z\"/><path d=\"M17.41 7.96l-1.37-1.37c-.4-.4-.92-.59-1.43-.59-.52 0-1.04.2-1.43.59L10.3 9.45l-7.72 7.72c-.78.78-.78 2.05 0 2.83L4 21.41c.39.39.9.59 1.41.59.51 0 1.02-.2 1.41-.59l7.78-7.78 2.81-2.81c.8-.78.8-2.07 0-2.86zM5.41 20L4 18.59l7.72-7.72 1.47 1.35L5.41 20z\"/>\n",
              "  </svg>\n",
              "      </button>\n",
              "      \n",
              "  <style>\n",
              "    .colab-df-container {\n",
              "      display:flex;\n",
              "      flex-wrap:wrap;\n",
              "      gap: 12px;\n",
              "    }\n",
              "\n",
              "    .colab-df-convert {\n",
              "      background-color: #E8F0FE;\n",
              "      border: none;\n",
              "      border-radius: 50%;\n",
              "      cursor: pointer;\n",
              "      display: none;\n",
              "      fill: #1967D2;\n",
              "      height: 32px;\n",
              "      padding: 0 0 0 0;\n",
              "      width: 32px;\n",
              "    }\n",
              "\n",
              "    .colab-df-convert:hover {\n",
              "      background-color: #E2EBFA;\n",
              "      box-shadow: 0px 1px 2px rgba(60, 64, 67, 0.3), 0px 1px 3px 1px rgba(60, 64, 67, 0.15);\n",
              "      fill: #174EA6;\n",
              "    }\n",
              "\n",
              "    [theme=dark] .colab-df-convert {\n",
              "      background-color: #3B4455;\n",
              "      fill: #D2E3FC;\n",
              "    }\n",
              "\n",
              "    [theme=dark] .colab-df-convert:hover {\n",
              "      background-color: #434B5C;\n",
              "      box-shadow: 0px 1px 3px 1px rgba(0, 0, 0, 0.15);\n",
              "      filter: drop-shadow(0px 1px 2px rgba(0, 0, 0, 0.3));\n",
              "      fill: #FFFFFF;\n",
              "    }\n",
              "  </style>\n",
              "\n",
              "      <script>\n",
              "        const buttonEl =\n",
              "          document.querySelector('#df-facb054d-80b6-4bee-9bfe-04839c85d8cc button.colab-df-convert');\n",
              "        buttonEl.style.display =\n",
              "          google.colab.kernel.accessAllowed ? 'block' : 'none';\n",
              "\n",
              "        async function convertToInteractive(key) {\n",
              "          const element = document.querySelector('#df-facb054d-80b6-4bee-9bfe-04839c85d8cc');\n",
              "          const dataTable =\n",
              "            await google.colab.kernel.invokeFunction('convertToInteractive',\n",
              "                                                     [key], {});\n",
              "          if (!dataTable) return;\n",
              "\n",
              "          const docLinkHtml = 'Like what you see? Visit the ' +\n",
              "            '<a target=\"_blank\" href=https://colab.research.google.com/notebooks/data_table.ipynb>data table notebook</a>'\n",
              "            + ' to learn more about interactive tables.';\n",
              "          element.innerHTML = '';\n",
              "          dataTable['output_type'] = 'display_data';\n",
              "          await google.colab.output.renderOutput(dataTable, element);\n",
              "          const docLink = document.createElement('div');\n",
              "          docLink.innerHTML = docLinkHtml;\n",
              "          element.appendChild(docLink);\n",
              "        }\n",
              "      </script>\n",
              "    </div>\n",
              "  </div>\n",
              "  "
            ]
          },
          "metadata": {},
          "execution_count": 4
        }
      ]
    },
    {
      "cell_type": "markdown",
      "source": [
        "- Podemos decir que la media de la cantidad de palabras es de 1808.\n",
        "- Existe un artículo con mínimo de 250 palabras y máximo de 8401.\n",
        "- Para la salida, vemos que como mínimo es 0 veces compartido y máximo de 350000.\n",
        "\n"
      ],
      "metadata": {
        "id": "WNxEWb68WCys"
      }
    },
    {
      "cell_type": "markdown",
      "source": [
        "### Data Cleaning"
      ],
      "metadata": {
        "id": "MqPW9lGcMCXq"
      }
    },
    {
      "cell_type": "code",
      "source": [
        "# Comprobar si hay valores null\n",
        "data.isnull().any()"
      ],
      "metadata": {
        "colab": {
          "base_uri": "https://localhost:8080/"
        },
        "id": "9McLGiwQMFws",
        "outputId": "7202b249-14b4-40e0-ae18-5190ff5f37fb"
      },
      "execution_count": null,
      "outputs": [
        {
          "output_type": "execute_result",
          "data": {
            "text/plain": [
              "Title             False\n",
              "url                True\n",
              "Word count        False\n",
              "# of Links        False\n",
              "# of comments      True\n",
              "# Images video    False\n",
              "Elapsed days      False\n",
              "# Shares          False\n",
              "dtype: bool"
            ]
          },
          "metadata": {},
          "execution_count": 5
        }
      ]
    },
    {
      "cell_type": "code",
      "source": [
        "# La mejor manera de llenar valores NULL en un campo numérico es con el promedio\n",
        "data['# of comments'].mean() # Promedio de comentarios"
      ],
      "metadata": {
        "colab": {
          "base_uri": "https://localhost:8080/"
        },
        "id": "mLwG8WVOOh72",
        "outputId": "a089fe4a-542f-4da9-f6ab-e0f1579a3374"
      },
      "execution_count": null,
      "outputs": [
        {
          "output_type": "execute_result",
          "data": {
            "text/plain": [
              "8.782945736434108"
            ]
          },
          "metadata": {},
          "execution_count": 6
        }
      ]
    },
    {
      "cell_type": "code",
      "source": [
        "# Remplazamos los valores NULL por el promedio de \"# of comments\"\n",
        "data['# of comments']=data['# of comments'].fillna(data['# of comments'].mean())"
      ],
      "metadata": {
        "id": "7J7NraVJMSZC"
      },
      "execution_count": null,
      "outputs": []
    },
    {
      "cell_type": "code",
      "source": [],
      "metadata": {
        "id": "OlgH-pMREnNs"
      },
      "execution_count": null,
      "outputs": []
    },
    {
      "cell_type": "code",
      "source": [
        "# Cambiar el tipo de datos de los comentarios a entero, para manejar un mismo tipo de dato\n",
        "data['# of comments']=data['# of comments'].astype('int64')"
      ],
      "metadata": {
        "id": "5_af0jGZUR7j"
      },
      "execution_count": null,
      "outputs": []
    },
    {
      "cell_type": "code",
      "source": [
        "#Mostramos la data\n",
        "data.head()"
      ],
      "metadata": {
        "colab": {
          "base_uri": "https://localhost:8080/",
          "height": 206
        },
        "id": "SsKPaVJeNBmv",
        "outputId": "ea2d277e-a35b-4383-e4a0-611fe46c802c"
      },
      "execution_count": null,
      "outputs": [
        {
          "output_type": "execute_result",
          "data": {
            "text/plain": [
              "                                               Title  \\\n",
              "0  What is Machine Learning and how do we use it ...   \n",
              "1   10 Companies Using Machine Learning in Cool Ways   \n",
              "2  How Artificial Intelligence Is Revolutionizing...   \n",
              "3  Dbrain and the Blockchain of Artificial Intell...   \n",
              "4  Nasa finds entire solar system filled with eig...   \n",
              "\n",
              "                                                 url  Word count  # of Links  \\\n",
              "0  https://blog.signals.network/what-is-machine-l...        1888           1   \n",
              "1                                                NaN        1742           9   \n",
              "2                                                NaN         962           6   \n",
              "3                                                NaN        1221           3   \n",
              "4                                                NaN        2039           1   \n",
              "\n",
              "   # of comments  # Images video  Elapsed days  # Shares  \n",
              "0              2               2            34    200000  \n",
              "1              8               9             5     25000  \n",
              "2              0               1            10     42000  \n",
              "3              8               2            68    200000  \n",
              "4            104               4           131    200000  "
            ],
            "text/html": [
              "\n",
              "  <div id=\"df-98536442-fe64-4116-ae52-6ec9930a4e5f\">\n",
              "    <div class=\"colab-df-container\">\n",
              "      <div>\n",
              "<style scoped>\n",
              "    .dataframe tbody tr th:only-of-type {\n",
              "        vertical-align: middle;\n",
              "    }\n",
              "\n",
              "    .dataframe tbody tr th {\n",
              "        vertical-align: top;\n",
              "    }\n",
              "\n",
              "    .dataframe thead th {\n",
              "        text-align: right;\n",
              "    }\n",
              "</style>\n",
              "<table border=\"1\" class=\"dataframe\">\n",
              "  <thead>\n",
              "    <tr style=\"text-align: right;\">\n",
              "      <th></th>\n",
              "      <th>Title</th>\n",
              "      <th>url</th>\n",
              "      <th>Word count</th>\n",
              "      <th># of Links</th>\n",
              "      <th># of comments</th>\n",
              "      <th># Images video</th>\n",
              "      <th>Elapsed days</th>\n",
              "      <th># Shares</th>\n",
              "    </tr>\n",
              "  </thead>\n",
              "  <tbody>\n",
              "    <tr>\n",
              "      <th>0</th>\n",
              "      <td>What is Machine Learning and how do we use it ...</td>\n",
              "      <td>https://blog.signals.network/what-is-machine-l...</td>\n",
              "      <td>1888</td>\n",
              "      <td>1</td>\n",
              "      <td>2</td>\n",
              "      <td>2</td>\n",
              "      <td>34</td>\n",
              "      <td>200000</td>\n",
              "    </tr>\n",
              "    <tr>\n",
              "      <th>1</th>\n",
              "      <td>10 Companies Using Machine Learning in Cool Ways</td>\n",
              "      <td>NaN</td>\n",
              "      <td>1742</td>\n",
              "      <td>9</td>\n",
              "      <td>8</td>\n",
              "      <td>9</td>\n",
              "      <td>5</td>\n",
              "      <td>25000</td>\n",
              "    </tr>\n",
              "    <tr>\n",
              "      <th>2</th>\n",
              "      <td>How Artificial Intelligence Is Revolutionizing...</td>\n",
              "      <td>NaN</td>\n",
              "      <td>962</td>\n",
              "      <td>6</td>\n",
              "      <td>0</td>\n",
              "      <td>1</td>\n",
              "      <td>10</td>\n",
              "      <td>42000</td>\n",
              "    </tr>\n",
              "    <tr>\n",
              "      <th>3</th>\n",
              "      <td>Dbrain and the Blockchain of Artificial Intell...</td>\n",
              "      <td>NaN</td>\n",
              "      <td>1221</td>\n",
              "      <td>3</td>\n",
              "      <td>8</td>\n",
              "      <td>2</td>\n",
              "      <td>68</td>\n",
              "      <td>200000</td>\n",
              "    </tr>\n",
              "    <tr>\n",
              "      <th>4</th>\n",
              "      <td>Nasa finds entire solar system filled with eig...</td>\n",
              "      <td>NaN</td>\n",
              "      <td>2039</td>\n",
              "      <td>1</td>\n",
              "      <td>104</td>\n",
              "      <td>4</td>\n",
              "      <td>131</td>\n",
              "      <td>200000</td>\n",
              "    </tr>\n",
              "  </tbody>\n",
              "</table>\n",
              "</div>\n",
              "      <button class=\"colab-df-convert\" onclick=\"convertToInteractive('df-98536442-fe64-4116-ae52-6ec9930a4e5f')\"\n",
              "              title=\"Convert this dataframe to an interactive table.\"\n",
              "              style=\"display:none;\">\n",
              "        \n",
              "  <svg xmlns=\"http://www.w3.org/2000/svg\" height=\"24px\"viewBox=\"0 0 24 24\"\n",
              "       width=\"24px\">\n",
              "    <path d=\"M0 0h24v24H0V0z\" fill=\"none\"/>\n",
              "    <path d=\"M18.56 5.44l.94 2.06.94-2.06 2.06-.94-2.06-.94-.94-2.06-.94 2.06-2.06.94zm-11 1L8.5 8.5l.94-2.06 2.06-.94-2.06-.94L8.5 2.5l-.94 2.06-2.06.94zm10 10l.94 2.06.94-2.06 2.06-.94-2.06-.94-.94-2.06-.94 2.06-2.06.94z\"/><path d=\"M17.41 7.96l-1.37-1.37c-.4-.4-.92-.59-1.43-.59-.52 0-1.04.2-1.43.59L10.3 9.45l-7.72 7.72c-.78.78-.78 2.05 0 2.83L4 21.41c.39.39.9.59 1.41.59.51 0 1.02-.2 1.41-.59l7.78-7.78 2.81-2.81c.8-.78.8-2.07 0-2.86zM5.41 20L4 18.59l7.72-7.72 1.47 1.35L5.41 20z\"/>\n",
              "  </svg>\n",
              "      </button>\n",
              "      \n",
              "  <style>\n",
              "    .colab-df-container {\n",
              "      display:flex;\n",
              "      flex-wrap:wrap;\n",
              "      gap: 12px;\n",
              "    }\n",
              "\n",
              "    .colab-df-convert {\n",
              "      background-color: #E8F0FE;\n",
              "      border: none;\n",
              "      border-radius: 50%;\n",
              "      cursor: pointer;\n",
              "      display: none;\n",
              "      fill: #1967D2;\n",
              "      height: 32px;\n",
              "      padding: 0 0 0 0;\n",
              "      width: 32px;\n",
              "    }\n",
              "\n",
              "    .colab-df-convert:hover {\n",
              "      background-color: #E2EBFA;\n",
              "      box-shadow: 0px 1px 2px rgba(60, 64, 67, 0.3), 0px 1px 3px 1px rgba(60, 64, 67, 0.15);\n",
              "      fill: #174EA6;\n",
              "    }\n",
              "\n",
              "    [theme=dark] .colab-df-convert {\n",
              "      background-color: #3B4455;\n",
              "      fill: #D2E3FC;\n",
              "    }\n",
              "\n",
              "    [theme=dark] .colab-df-convert:hover {\n",
              "      background-color: #434B5C;\n",
              "      box-shadow: 0px 1px 3px 1px rgba(0, 0, 0, 0.15);\n",
              "      filter: drop-shadow(0px 1px 2px rgba(0, 0, 0, 0.3));\n",
              "      fill: #FFFFFF;\n",
              "    }\n",
              "  </style>\n",
              "\n",
              "      <script>\n",
              "        const buttonEl =\n",
              "          document.querySelector('#df-98536442-fe64-4116-ae52-6ec9930a4e5f button.colab-df-convert');\n",
              "        buttonEl.style.display =\n",
              "          google.colab.kernel.accessAllowed ? 'block' : 'none';\n",
              "\n",
              "        async function convertToInteractive(key) {\n",
              "          const element = document.querySelector('#df-98536442-fe64-4116-ae52-6ec9930a4e5f');\n",
              "          const dataTable =\n",
              "            await google.colab.kernel.invokeFunction('convertToInteractive',\n",
              "                                                     [key], {});\n",
              "          if (!dataTable) return;\n",
              "\n",
              "          const docLinkHtml = 'Like what you see? Visit the ' +\n",
              "            '<a target=\"_blank\" href=https://colab.research.google.com/notebooks/data_table.ipynb>data table notebook</a>'\n",
              "            + ' to learn more about interactive tables.';\n",
              "          element.innerHTML = '';\n",
              "          dataTable['output_type'] = 'display_data';\n",
              "          await google.colab.output.renderOutput(dataTable, element);\n",
              "          const docLink = document.createElement('div');\n",
              "          docLink.innerHTML = docLinkHtml;\n",
              "          element.appendChild(docLink);\n",
              "        }\n",
              "      </script>\n",
              "    </div>\n",
              "  </div>\n",
              "  "
            ]
          },
          "metadata": {},
          "execution_count": 9
        }
      ]
    },
    {
      "cell_type": "markdown",
      "source": [
        "### Visualización General"
      ],
      "metadata": {
        "id": "aKVoiMp0ZPK7"
      }
    },
    {
      "cell_type": "code",
      "source": [
        "# Importamos px, visualización dinámica\n",
        "import plotly.express as px"
      ],
      "metadata": {
        "id": "-a8ZdghuXcUb"
      },
      "execution_count": null,
      "outputs": []
    },
    {
      "cell_type": "code",
      "source": [
        "# HISTOGRAMA PARA WORD COUNT\n",
        "px.histogram(data['Word count'], x=\"Word count\", title=\"Cantidad de Palabras\",color_discrete_sequence=['indianred'],text_auto=True)"
      ],
      "metadata": {
        "colab": {
          "base_uri": "https://localhost:8080/",
          "height": 542
        },
        "id": "XgerV-eDdSAz",
        "outputId": "add4540d-9358-4f71-9e29-22ab8c6d77c3"
      },
      "execution_count": null,
      "outputs": [
        {
          "output_type": "display_data",
          "data": {
            "text/html": [
              "<html>\n",
              "<head><meta charset=\"utf-8\" /></head>\n",
              "<body>\n",
              "    <div>            <script src=\"https://cdnjs.cloudflare.com/ajax/libs/mathjax/2.7.5/MathJax.js?config=TeX-AMS-MML_SVG\"></script><script type=\"text/javascript\">if (window.MathJax) {MathJax.Hub.Config({SVG: {font: \"STIX-Web\"}});}</script>                <script type=\"text/javascript\">window.PlotlyConfig = {MathJaxConfig: 'local'};</script>\n",
              "        <script src=\"https://cdn.plot.ly/plotly-2.8.3.min.js\"></script>                <div id=\"7db15979-4e4b-4ae2-98cc-b1747e2b8bdf\" class=\"plotly-graph-div\" style=\"height:525px; width:100%;\"></div>            <script type=\"text/javascript\">                                    window.PLOTLYENV=window.PLOTLYENV || {};                                    if (document.getElementById(\"7db15979-4e4b-4ae2-98cc-b1747e2b8bdf\")) {                    Plotly.newPlot(                        \"7db15979-4e4b-4ae2-98cc-b1747e2b8bdf\",                        [{\"alignmentgroup\":\"True\",\"bingroup\":\"x\",\"hovertemplate\":\"Word count=%{x}<br>count=%{y}<extra></extra>\",\"legendgroup\":\"\",\"marker\":{\"color\":\"indianred\",\"pattern\":{\"shape\":\"\"}},\"name\":\"\",\"offsetgroup\":\"\",\"orientation\":\"v\",\"showlegend\":false,\"texttemplate\":\"%{value}\",\"x\":[1888,1742,962,1221,2039,761,6462,753,1118,1581,2090,1099,3900,256,1267,971,369,635,1631,571,1333,364,515,1135,666,8401,787,421,1065,5892,908,1260,950,1761,911,971,4420,458,458,782,2080,250,1763,650,1184,957,627,895,1097,4437,1262,1738,1813,2400,662,800,367,507,992,499,619,1152,2363,988,759,1098,2797,1120,2488,2049,2542,1011,2189,1864,990,1741,1229,2975,1864,2460,2136,2833,1995,2332,1998,3442,2696,1913,1858,2457,2592,1718,1293,3023,3485,2093,1490,1238,2583,1007,978,3019,3289,2347,2224,1778,1150,2528,2486,2317,2369,1612,1136,2721,3480,1143,2428,2877,776,1284,1145,1793,2904,1473,2894,1932,3225,3185,2068,2354,2921,2211,2865,1674,2282,2636,774,1030,734,743,1514,2854,1443,1817,3241,1266,2275,1264,2212,1871,2513,1443,912,2366,1542,1201,3239,2566,2089,1530,953],\"xaxis\":\"x\",\"yaxis\":\"y\",\"type\":\"histogram\"}],                        {\"template\":{\"data\":{\"bar\":[{\"error_x\":{\"color\":\"#2a3f5f\"},\"error_y\":{\"color\":\"#2a3f5f\"},\"marker\":{\"line\":{\"color\":\"#E5ECF6\",\"width\":0.5},\"pattern\":{\"fillmode\":\"overlay\",\"size\":10,\"solidity\":0.2}},\"type\":\"bar\"}],\"barpolar\":[{\"marker\":{\"line\":{\"color\":\"#E5ECF6\",\"width\":0.5},\"pattern\":{\"fillmode\":\"overlay\",\"size\":10,\"solidity\":0.2}},\"type\":\"barpolar\"}],\"carpet\":[{\"aaxis\":{\"endlinecolor\":\"#2a3f5f\",\"gridcolor\":\"white\",\"linecolor\":\"white\",\"minorgridcolor\":\"white\",\"startlinecolor\":\"#2a3f5f\"},\"baxis\":{\"endlinecolor\":\"#2a3f5f\",\"gridcolor\":\"white\",\"linecolor\":\"white\",\"minorgridcolor\":\"white\",\"startlinecolor\":\"#2a3f5f\"},\"type\":\"carpet\"}],\"choropleth\":[{\"colorbar\":{\"outlinewidth\":0,\"ticks\":\"\"},\"type\":\"choropleth\"}],\"contour\":[{\"colorbar\":{\"outlinewidth\":0,\"ticks\":\"\"},\"colorscale\":[[0.0,\"#0d0887\"],[0.1111111111111111,\"#46039f\"],[0.2222222222222222,\"#7201a8\"],[0.3333333333333333,\"#9c179e\"],[0.4444444444444444,\"#bd3786\"],[0.5555555555555556,\"#d8576b\"],[0.6666666666666666,\"#ed7953\"],[0.7777777777777778,\"#fb9f3a\"],[0.8888888888888888,\"#fdca26\"],[1.0,\"#f0f921\"]],\"type\":\"contour\"}],\"contourcarpet\":[{\"colorbar\":{\"outlinewidth\":0,\"ticks\":\"\"},\"type\":\"contourcarpet\"}],\"heatmap\":[{\"colorbar\":{\"outlinewidth\":0,\"ticks\":\"\"},\"colorscale\":[[0.0,\"#0d0887\"],[0.1111111111111111,\"#46039f\"],[0.2222222222222222,\"#7201a8\"],[0.3333333333333333,\"#9c179e\"],[0.4444444444444444,\"#bd3786\"],[0.5555555555555556,\"#d8576b\"],[0.6666666666666666,\"#ed7953\"],[0.7777777777777778,\"#fb9f3a\"],[0.8888888888888888,\"#fdca26\"],[1.0,\"#f0f921\"]],\"type\":\"heatmap\"}],\"heatmapgl\":[{\"colorbar\":{\"outlinewidth\":0,\"ticks\":\"\"},\"colorscale\":[[0.0,\"#0d0887\"],[0.1111111111111111,\"#46039f\"],[0.2222222222222222,\"#7201a8\"],[0.3333333333333333,\"#9c179e\"],[0.4444444444444444,\"#bd3786\"],[0.5555555555555556,\"#d8576b\"],[0.6666666666666666,\"#ed7953\"],[0.7777777777777778,\"#fb9f3a\"],[0.8888888888888888,\"#fdca26\"],[1.0,\"#f0f921\"]],\"type\":\"heatmapgl\"}],\"histogram\":[{\"marker\":{\"pattern\":{\"fillmode\":\"overlay\",\"size\":10,\"solidity\":0.2}},\"type\":\"histogram\"}],\"histogram2d\":[{\"colorbar\":{\"outlinewidth\":0,\"ticks\":\"\"},\"colorscale\":[[0.0,\"#0d0887\"],[0.1111111111111111,\"#46039f\"],[0.2222222222222222,\"#7201a8\"],[0.3333333333333333,\"#9c179e\"],[0.4444444444444444,\"#bd3786\"],[0.5555555555555556,\"#d8576b\"],[0.6666666666666666,\"#ed7953\"],[0.7777777777777778,\"#fb9f3a\"],[0.8888888888888888,\"#fdca26\"],[1.0,\"#f0f921\"]],\"type\":\"histogram2d\"}],\"histogram2dcontour\":[{\"colorbar\":{\"outlinewidth\":0,\"ticks\":\"\"},\"colorscale\":[[0.0,\"#0d0887\"],[0.1111111111111111,\"#46039f\"],[0.2222222222222222,\"#7201a8\"],[0.3333333333333333,\"#9c179e\"],[0.4444444444444444,\"#bd3786\"],[0.5555555555555556,\"#d8576b\"],[0.6666666666666666,\"#ed7953\"],[0.7777777777777778,\"#fb9f3a\"],[0.8888888888888888,\"#fdca26\"],[1.0,\"#f0f921\"]],\"type\":\"histogram2dcontour\"}],\"mesh3d\":[{\"colorbar\":{\"outlinewidth\":0,\"ticks\":\"\"},\"type\":\"mesh3d\"}],\"parcoords\":[{\"line\":{\"colorbar\":{\"outlinewidth\":0,\"ticks\":\"\"}},\"type\":\"parcoords\"}],\"pie\":[{\"automargin\":true,\"type\":\"pie\"}],\"scatter\":[{\"marker\":{\"colorbar\":{\"outlinewidth\":0,\"ticks\":\"\"}},\"type\":\"scatter\"}],\"scatter3d\":[{\"line\":{\"colorbar\":{\"outlinewidth\":0,\"ticks\":\"\"}},\"marker\":{\"colorbar\":{\"outlinewidth\":0,\"ticks\":\"\"}},\"type\":\"scatter3d\"}],\"scattercarpet\":[{\"marker\":{\"colorbar\":{\"outlinewidth\":0,\"ticks\":\"\"}},\"type\":\"scattercarpet\"}],\"scattergeo\":[{\"marker\":{\"colorbar\":{\"outlinewidth\":0,\"ticks\":\"\"}},\"type\":\"scattergeo\"}],\"scattergl\":[{\"marker\":{\"colorbar\":{\"outlinewidth\":0,\"ticks\":\"\"}},\"type\":\"scattergl\"}],\"scattermapbox\":[{\"marker\":{\"colorbar\":{\"outlinewidth\":0,\"ticks\":\"\"}},\"type\":\"scattermapbox\"}],\"scatterpolar\":[{\"marker\":{\"colorbar\":{\"outlinewidth\":0,\"ticks\":\"\"}},\"type\":\"scatterpolar\"}],\"scatterpolargl\":[{\"marker\":{\"colorbar\":{\"outlinewidth\":0,\"ticks\":\"\"}},\"type\":\"scatterpolargl\"}],\"scatterternary\":[{\"marker\":{\"colorbar\":{\"outlinewidth\":0,\"ticks\":\"\"}},\"type\":\"scatterternary\"}],\"surface\":[{\"colorbar\":{\"outlinewidth\":0,\"ticks\":\"\"},\"colorscale\":[[0.0,\"#0d0887\"],[0.1111111111111111,\"#46039f\"],[0.2222222222222222,\"#7201a8\"],[0.3333333333333333,\"#9c179e\"],[0.4444444444444444,\"#bd3786\"],[0.5555555555555556,\"#d8576b\"],[0.6666666666666666,\"#ed7953\"],[0.7777777777777778,\"#fb9f3a\"],[0.8888888888888888,\"#fdca26\"],[1.0,\"#f0f921\"]],\"type\":\"surface\"}],\"table\":[{\"cells\":{\"fill\":{\"color\":\"#EBF0F8\"},\"line\":{\"color\":\"white\"}},\"header\":{\"fill\":{\"color\":\"#C8D4E3\"},\"line\":{\"color\":\"white\"}},\"type\":\"table\"}]},\"layout\":{\"annotationdefaults\":{\"arrowcolor\":\"#2a3f5f\",\"arrowhead\":0,\"arrowwidth\":1},\"autotypenumbers\":\"strict\",\"coloraxis\":{\"colorbar\":{\"outlinewidth\":0,\"ticks\":\"\"}},\"colorscale\":{\"diverging\":[[0,\"#8e0152\"],[0.1,\"#c51b7d\"],[0.2,\"#de77ae\"],[0.3,\"#f1b6da\"],[0.4,\"#fde0ef\"],[0.5,\"#f7f7f7\"],[0.6,\"#e6f5d0\"],[0.7,\"#b8e186\"],[0.8,\"#7fbc41\"],[0.9,\"#4d9221\"],[1,\"#276419\"]],\"sequential\":[[0.0,\"#0d0887\"],[0.1111111111111111,\"#46039f\"],[0.2222222222222222,\"#7201a8\"],[0.3333333333333333,\"#9c179e\"],[0.4444444444444444,\"#bd3786\"],[0.5555555555555556,\"#d8576b\"],[0.6666666666666666,\"#ed7953\"],[0.7777777777777778,\"#fb9f3a\"],[0.8888888888888888,\"#fdca26\"],[1.0,\"#f0f921\"]],\"sequentialminus\":[[0.0,\"#0d0887\"],[0.1111111111111111,\"#46039f\"],[0.2222222222222222,\"#7201a8\"],[0.3333333333333333,\"#9c179e\"],[0.4444444444444444,\"#bd3786\"],[0.5555555555555556,\"#d8576b\"],[0.6666666666666666,\"#ed7953\"],[0.7777777777777778,\"#fb9f3a\"],[0.8888888888888888,\"#fdca26\"],[1.0,\"#f0f921\"]]},\"colorway\":[\"#636efa\",\"#EF553B\",\"#00cc96\",\"#ab63fa\",\"#FFA15A\",\"#19d3f3\",\"#FF6692\",\"#B6E880\",\"#FF97FF\",\"#FECB52\"],\"font\":{\"color\":\"#2a3f5f\"},\"geo\":{\"bgcolor\":\"white\",\"lakecolor\":\"white\",\"landcolor\":\"#E5ECF6\",\"showlakes\":true,\"showland\":true,\"subunitcolor\":\"white\"},\"hoverlabel\":{\"align\":\"left\"},\"hovermode\":\"closest\",\"mapbox\":{\"style\":\"light\"},\"paper_bgcolor\":\"white\",\"plot_bgcolor\":\"#E5ECF6\",\"polar\":{\"angularaxis\":{\"gridcolor\":\"white\",\"linecolor\":\"white\",\"ticks\":\"\"},\"bgcolor\":\"#E5ECF6\",\"radialaxis\":{\"gridcolor\":\"white\",\"linecolor\":\"white\",\"ticks\":\"\"}},\"scene\":{\"xaxis\":{\"backgroundcolor\":\"#E5ECF6\",\"gridcolor\":\"white\",\"gridwidth\":2,\"linecolor\":\"white\",\"showbackground\":true,\"ticks\":\"\",\"zerolinecolor\":\"white\"},\"yaxis\":{\"backgroundcolor\":\"#E5ECF6\",\"gridcolor\":\"white\",\"gridwidth\":2,\"linecolor\":\"white\",\"showbackground\":true,\"ticks\":\"\",\"zerolinecolor\":\"white\"},\"zaxis\":{\"backgroundcolor\":\"#E5ECF6\",\"gridcolor\":\"white\",\"gridwidth\":2,\"linecolor\":\"white\",\"showbackground\":true,\"ticks\":\"\",\"zerolinecolor\":\"white\"}},\"shapedefaults\":{\"line\":{\"color\":\"#2a3f5f\"}},\"ternary\":{\"aaxis\":{\"gridcolor\":\"white\",\"linecolor\":\"white\",\"ticks\":\"\"},\"baxis\":{\"gridcolor\":\"white\",\"linecolor\":\"white\",\"ticks\":\"\"},\"bgcolor\":\"#E5ECF6\",\"caxis\":{\"gridcolor\":\"white\",\"linecolor\":\"white\",\"ticks\":\"\"}},\"title\":{\"x\":0.05},\"xaxis\":{\"automargin\":true,\"gridcolor\":\"white\",\"linecolor\":\"white\",\"ticks\":\"\",\"title\":{\"standoff\":15},\"zerolinecolor\":\"white\",\"zerolinewidth\":2},\"yaxis\":{\"automargin\":true,\"gridcolor\":\"white\",\"linecolor\":\"white\",\"ticks\":\"\",\"title\":{\"standoff\":15},\"zerolinecolor\":\"white\",\"zerolinewidth\":2}}},\"xaxis\":{\"anchor\":\"y\",\"domain\":[0.0,1.0],\"title\":{\"text\":\"Word count\"}},\"yaxis\":{\"anchor\":\"x\",\"domain\":[0.0,1.0],\"title\":{\"text\":\"count\"}},\"legend\":{\"tracegroupgap\":0},\"title\":{\"text\":\"Cantidad de Palabras\"},\"barmode\":\"relative\"},                        {\"responsive\": true}                    ).then(function(){\n",
              "                            \n",
              "var gd = document.getElementById('7db15979-4e4b-4ae2-98cc-b1747e2b8bdf');\n",
              "var x = new MutationObserver(function (mutations, observer) {{\n",
              "        var display = window.getComputedStyle(gd).display;\n",
              "        if (!display || display === 'none') {{\n",
              "            console.log([gd, 'removed!']);\n",
              "            Plotly.purge(gd);\n",
              "            observer.disconnect();\n",
              "        }}\n",
              "}});\n",
              "\n",
              "// Listen for the removal of the full notebook cells\n",
              "var notebookContainer = gd.closest('#notebook-container');\n",
              "if (notebookContainer) {{\n",
              "    x.observe(notebookContainer, {childList: true});\n",
              "}}\n",
              "\n",
              "// Listen for the clearing of the current output cell\n",
              "var outputEl = gd.closest('.output');\n",
              "if (outputEl) {{\n",
              "    x.observe(outputEl, {childList: true});\n",
              "}}\n",
              "\n",
              "                        })                };                            </script>        </div>\n",
              "</body>\n",
              "</html>"
            ]
          },
          "metadata": {}
        }
      ]
    },
    {
      "cell_type": "markdown",
      "source": [
        "Podemos observar que donde se concentran mayormente los registros para **Word count** es de 3500."
      ],
      "metadata": {
        "id": "caXTfAh8b7uy"
      }
    },
    {
      "cell_type": "code",
      "source": [
        "# GRÁFICO HISTOGRAMA PARA COMPARTIDOS\n",
        "px.histogram(data['# Shares'], x=\"# Shares\", title=\"# Compartidos\",color_discrete_sequence=['goldenrod'],text_auto=True)"
      ],
      "metadata": {
        "colab": {
          "base_uri": "https://localhost:8080/",
          "height": 542
        },
        "id": "tIRWjk1ObgYr",
        "outputId": "b61d30e3-cf3e-425c-e37e-cc1027b99c02"
      },
      "execution_count": null,
      "outputs": [
        {
          "output_type": "display_data",
          "data": {
            "text/html": [
              "<html>\n",
              "<head><meta charset=\"utf-8\" /></head>\n",
              "<body>\n",
              "    <div>            <script src=\"https://cdnjs.cloudflare.com/ajax/libs/mathjax/2.7.5/MathJax.js?config=TeX-AMS-MML_SVG\"></script><script type=\"text/javascript\">if (window.MathJax) {MathJax.Hub.Config({SVG: {font: \"STIX-Web\"}});}</script>                <script type=\"text/javascript\">window.PlotlyConfig = {MathJaxConfig: 'local'};</script>\n",
              "        <script src=\"https://cdn.plot.ly/plotly-2.8.3.min.js\"></script>                <div id=\"4961f45f-101c-4976-89c3-625e341564d4\" class=\"plotly-graph-div\" style=\"height:525px; width:100%;\"></div>            <script type=\"text/javascript\">                                    window.PLOTLYENV=window.PLOTLYENV || {};                                    if (document.getElementById(\"4961f45f-101c-4976-89c3-625e341564d4\")) {                    Plotly.newPlot(                        \"4961f45f-101c-4976-89c3-625e341564d4\",                        [{\"alignmentgroup\":\"True\",\"bingroup\":\"x\",\"hovertemplate\":\"# Shares=%{x}<br>count=%{y}<extra></extra>\",\"legendgroup\":\"\",\"marker\":{\"color\":\"goldenrod\",\"pattern\":{\"shape\":\"\"}},\"name\":\"\",\"offsetgroup\":\"\",\"orientation\":\"v\",\"showlegend\":false,\"texttemplate\":\"%{value}\",\"x\":[200000,25000,42000,200000,200000,21000,200000,77000,59400,35000,100000,350000,20000,29000,37000,67300,60100,3200,37000,55000,54800,54600,27000,20000,2400,14000,3800,26000,14000,7100,14000,3000,5600,1500,8400,5300,3400,2500,757,6400,3600,22,2300,2800,1300,2500,4500,422,1600,2000,715,907,2800,1300,3000,2800,3300,2600,2300,1400,1800,867,1500,631,1200,950,1200,196,1100,668,424,8,367,42406,1733,35691,11061,51319,30756,58425,48060,0,4988,27984,45455,76585,24264,5261,25548,0,56376,13315,27476,55170,871,39767,16390,23832,12269,10574,24206,13586,81403,21123,32248,8001,23288,53720,53449,52712,39681,39091,28116,25850,20880,17145,57058,19420,3298,31137,5153,34515,7260,0,23152,30912,34669,12740,36707,1177,48927,11055,49421,23018,54198,659,16641,19828,15047,16160,34065,17124,15512,9085,81025,16458,55738,18012,35392,26194,55914,3968,1824,2958,22359,8707,3239,25019,49614,33660,5956],\"xaxis\":\"x\",\"yaxis\":\"y\",\"type\":\"histogram\"}],                        {\"template\":{\"data\":{\"bar\":[{\"error_x\":{\"color\":\"#2a3f5f\"},\"error_y\":{\"color\":\"#2a3f5f\"},\"marker\":{\"line\":{\"color\":\"#E5ECF6\",\"width\":0.5},\"pattern\":{\"fillmode\":\"overlay\",\"size\":10,\"solidity\":0.2}},\"type\":\"bar\"}],\"barpolar\":[{\"marker\":{\"line\":{\"color\":\"#E5ECF6\",\"width\":0.5},\"pattern\":{\"fillmode\":\"overlay\",\"size\":10,\"solidity\":0.2}},\"type\":\"barpolar\"}],\"carpet\":[{\"aaxis\":{\"endlinecolor\":\"#2a3f5f\",\"gridcolor\":\"white\",\"linecolor\":\"white\",\"minorgridcolor\":\"white\",\"startlinecolor\":\"#2a3f5f\"},\"baxis\":{\"endlinecolor\":\"#2a3f5f\",\"gridcolor\":\"white\",\"linecolor\":\"white\",\"minorgridcolor\":\"white\",\"startlinecolor\":\"#2a3f5f\"},\"type\":\"carpet\"}],\"choropleth\":[{\"colorbar\":{\"outlinewidth\":0,\"ticks\":\"\"},\"type\":\"choropleth\"}],\"contour\":[{\"colorbar\":{\"outlinewidth\":0,\"ticks\":\"\"},\"colorscale\":[[0.0,\"#0d0887\"],[0.1111111111111111,\"#46039f\"],[0.2222222222222222,\"#7201a8\"],[0.3333333333333333,\"#9c179e\"],[0.4444444444444444,\"#bd3786\"],[0.5555555555555556,\"#d8576b\"],[0.6666666666666666,\"#ed7953\"],[0.7777777777777778,\"#fb9f3a\"],[0.8888888888888888,\"#fdca26\"],[1.0,\"#f0f921\"]],\"type\":\"contour\"}],\"contourcarpet\":[{\"colorbar\":{\"outlinewidth\":0,\"ticks\":\"\"},\"type\":\"contourcarpet\"}],\"heatmap\":[{\"colorbar\":{\"outlinewidth\":0,\"ticks\":\"\"},\"colorscale\":[[0.0,\"#0d0887\"],[0.1111111111111111,\"#46039f\"],[0.2222222222222222,\"#7201a8\"],[0.3333333333333333,\"#9c179e\"],[0.4444444444444444,\"#bd3786\"],[0.5555555555555556,\"#d8576b\"],[0.6666666666666666,\"#ed7953\"],[0.7777777777777778,\"#fb9f3a\"],[0.8888888888888888,\"#fdca26\"],[1.0,\"#f0f921\"]],\"type\":\"heatmap\"}],\"heatmapgl\":[{\"colorbar\":{\"outlinewidth\":0,\"ticks\":\"\"},\"colorscale\":[[0.0,\"#0d0887\"],[0.1111111111111111,\"#46039f\"],[0.2222222222222222,\"#7201a8\"],[0.3333333333333333,\"#9c179e\"],[0.4444444444444444,\"#bd3786\"],[0.5555555555555556,\"#d8576b\"],[0.6666666666666666,\"#ed7953\"],[0.7777777777777778,\"#fb9f3a\"],[0.8888888888888888,\"#fdca26\"],[1.0,\"#f0f921\"]],\"type\":\"heatmapgl\"}],\"histogram\":[{\"marker\":{\"pattern\":{\"fillmode\":\"overlay\",\"size\":10,\"solidity\":0.2}},\"type\":\"histogram\"}],\"histogram2d\":[{\"colorbar\":{\"outlinewidth\":0,\"ticks\":\"\"},\"colorscale\":[[0.0,\"#0d0887\"],[0.1111111111111111,\"#46039f\"],[0.2222222222222222,\"#7201a8\"],[0.3333333333333333,\"#9c179e\"],[0.4444444444444444,\"#bd3786\"],[0.5555555555555556,\"#d8576b\"],[0.6666666666666666,\"#ed7953\"],[0.7777777777777778,\"#fb9f3a\"],[0.8888888888888888,\"#fdca26\"],[1.0,\"#f0f921\"]],\"type\":\"histogram2d\"}],\"histogram2dcontour\":[{\"colorbar\":{\"outlinewidth\":0,\"ticks\":\"\"},\"colorscale\":[[0.0,\"#0d0887\"],[0.1111111111111111,\"#46039f\"],[0.2222222222222222,\"#7201a8\"],[0.3333333333333333,\"#9c179e\"],[0.4444444444444444,\"#bd3786\"],[0.5555555555555556,\"#d8576b\"],[0.6666666666666666,\"#ed7953\"],[0.7777777777777778,\"#fb9f3a\"],[0.8888888888888888,\"#fdca26\"],[1.0,\"#f0f921\"]],\"type\":\"histogram2dcontour\"}],\"mesh3d\":[{\"colorbar\":{\"outlinewidth\":0,\"ticks\":\"\"},\"type\":\"mesh3d\"}],\"parcoords\":[{\"line\":{\"colorbar\":{\"outlinewidth\":0,\"ticks\":\"\"}},\"type\":\"parcoords\"}],\"pie\":[{\"automargin\":true,\"type\":\"pie\"}],\"scatter\":[{\"marker\":{\"colorbar\":{\"outlinewidth\":0,\"ticks\":\"\"}},\"type\":\"scatter\"}],\"scatter3d\":[{\"line\":{\"colorbar\":{\"outlinewidth\":0,\"ticks\":\"\"}},\"marker\":{\"colorbar\":{\"outlinewidth\":0,\"ticks\":\"\"}},\"type\":\"scatter3d\"}],\"scattercarpet\":[{\"marker\":{\"colorbar\":{\"outlinewidth\":0,\"ticks\":\"\"}},\"type\":\"scattercarpet\"}],\"scattergeo\":[{\"marker\":{\"colorbar\":{\"outlinewidth\":0,\"ticks\":\"\"}},\"type\":\"scattergeo\"}],\"scattergl\":[{\"marker\":{\"colorbar\":{\"outlinewidth\":0,\"ticks\":\"\"}},\"type\":\"scattergl\"}],\"scattermapbox\":[{\"marker\":{\"colorbar\":{\"outlinewidth\":0,\"ticks\":\"\"}},\"type\":\"scattermapbox\"}],\"scatterpolar\":[{\"marker\":{\"colorbar\":{\"outlinewidth\":0,\"ticks\":\"\"}},\"type\":\"scatterpolar\"}],\"scatterpolargl\":[{\"marker\":{\"colorbar\":{\"outlinewidth\":0,\"ticks\":\"\"}},\"type\":\"scatterpolargl\"}],\"scatterternary\":[{\"marker\":{\"colorbar\":{\"outlinewidth\":0,\"ticks\":\"\"}},\"type\":\"scatterternary\"}],\"surface\":[{\"colorbar\":{\"outlinewidth\":0,\"ticks\":\"\"},\"colorscale\":[[0.0,\"#0d0887\"],[0.1111111111111111,\"#46039f\"],[0.2222222222222222,\"#7201a8\"],[0.3333333333333333,\"#9c179e\"],[0.4444444444444444,\"#bd3786\"],[0.5555555555555556,\"#d8576b\"],[0.6666666666666666,\"#ed7953\"],[0.7777777777777778,\"#fb9f3a\"],[0.8888888888888888,\"#fdca26\"],[1.0,\"#f0f921\"]],\"type\":\"surface\"}],\"table\":[{\"cells\":{\"fill\":{\"color\":\"#EBF0F8\"},\"line\":{\"color\":\"white\"}},\"header\":{\"fill\":{\"color\":\"#C8D4E3\"},\"line\":{\"color\":\"white\"}},\"type\":\"table\"}]},\"layout\":{\"annotationdefaults\":{\"arrowcolor\":\"#2a3f5f\",\"arrowhead\":0,\"arrowwidth\":1},\"autotypenumbers\":\"strict\",\"coloraxis\":{\"colorbar\":{\"outlinewidth\":0,\"ticks\":\"\"}},\"colorscale\":{\"diverging\":[[0,\"#8e0152\"],[0.1,\"#c51b7d\"],[0.2,\"#de77ae\"],[0.3,\"#f1b6da\"],[0.4,\"#fde0ef\"],[0.5,\"#f7f7f7\"],[0.6,\"#e6f5d0\"],[0.7,\"#b8e186\"],[0.8,\"#7fbc41\"],[0.9,\"#4d9221\"],[1,\"#276419\"]],\"sequential\":[[0.0,\"#0d0887\"],[0.1111111111111111,\"#46039f\"],[0.2222222222222222,\"#7201a8\"],[0.3333333333333333,\"#9c179e\"],[0.4444444444444444,\"#bd3786\"],[0.5555555555555556,\"#d8576b\"],[0.6666666666666666,\"#ed7953\"],[0.7777777777777778,\"#fb9f3a\"],[0.8888888888888888,\"#fdca26\"],[1.0,\"#f0f921\"]],\"sequentialminus\":[[0.0,\"#0d0887\"],[0.1111111111111111,\"#46039f\"],[0.2222222222222222,\"#7201a8\"],[0.3333333333333333,\"#9c179e\"],[0.4444444444444444,\"#bd3786\"],[0.5555555555555556,\"#d8576b\"],[0.6666666666666666,\"#ed7953\"],[0.7777777777777778,\"#fb9f3a\"],[0.8888888888888888,\"#fdca26\"],[1.0,\"#f0f921\"]]},\"colorway\":[\"#636efa\",\"#EF553B\",\"#00cc96\",\"#ab63fa\",\"#FFA15A\",\"#19d3f3\",\"#FF6692\",\"#B6E880\",\"#FF97FF\",\"#FECB52\"],\"font\":{\"color\":\"#2a3f5f\"},\"geo\":{\"bgcolor\":\"white\",\"lakecolor\":\"white\",\"landcolor\":\"#E5ECF6\",\"showlakes\":true,\"showland\":true,\"subunitcolor\":\"white\"},\"hoverlabel\":{\"align\":\"left\"},\"hovermode\":\"closest\",\"mapbox\":{\"style\":\"light\"},\"paper_bgcolor\":\"white\",\"plot_bgcolor\":\"#E5ECF6\",\"polar\":{\"angularaxis\":{\"gridcolor\":\"white\",\"linecolor\":\"white\",\"ticks\":\"\"},\"bgcolor\":\"#E5ECF6\",\"radialaxis\":{\"gridcolor\":\"white\",\"linecolor\":\"white\",\"ticks\":\"\"}},\"scene\":{\"xaxis\":{\"backgroundcolor\":\"#E5ECF6\",\"gridcolor\":\"white\",\"gridwidth\":2,\"linecolor\":\"white\",\"showbackground\":true,\"ticks\":\"\",\"zerolinecolor\":\"white\"},\"yaxis\":{\"backgroundcolor\":\"#E5ECF6\",\"gridcolor\":\"white\",\"gridwidth\":2,\"linecolor\":\"white\",\"showbackground\":true,\"ticks\":\"\",\"zerolinecolor\":\"white\"},\"zaxis\":{\"backgroundcolor\":\"#E5ECF6\",\"gridcolor\":\"white\",\"gridwidth\":2,\"linecolor\":\"white\",\"showbackground\":true,\"ticks\":\"\",\"zerolinecolor\":\"white\"}},\"shapedefaults\":{\"line\":{\"color\":\"#2a3f5f\"}},\"ternary\":{\"aaxis\":{\"gridcolor\":\"white\",\"linecolor\":\"white\",\"ticks\":\"\"},\"baxis\":{\"gridcolor\":\"white\",\"linecolor\":\"white\",\"ticks\":\"\"},\"bgcolor\":\"#E5ECF6\",\"caxis\":{\"gridcolor\":\"white\",\"linecolor\":\"white\",\"ticks\":\"\"}},\"title\":{\"x\":0.05},\"xaxis\":{\"automargin\":true,\"gridcolor\":\"white\",\"linecolor\":\"white\",\"ticks\":\"\",\"title\":{\"standoff\":15},\"zerolinecolor\":\"white\",\"zerolinewidth\":2},\"yaxis\":{\"automargin\":true,\"gridcolor\":\"white\",\"linecolor\":\"white\",\"ticks\":\"\",\"title\":{\"standoff\":15},\"zerolinecolor\":\"white\",\"zerolinewidth\":2}}},\"xaxis\":{\"anchor\":\"y\",\"domain\":[0.0,1.0],\"title\":{\"text\":\"# Shares\"}},\"yaxis\":{\"anchor\":\"x\",\"domain\":[0.0,1.0],\"title\":{\"text\":\"count\"}},\"legend\":{\"tracegroupgap\":0},\"title\":{\"text\":\"# Compartidos\"},\"barmode\":\"relative\"},                        {\"responsive\": true}                    ).then(function(){\n",
              "                            \n",
              "var gd = document.getElementById('4961f45f-101c-4976-89c3-625e341564d4');\n",
              "var x = new MutationObserver(function (mutations, observer) {{\n",
              "        var display = window.getComputedStyle(gd).display;\n",
              "        if (!display || display === 'none') {{\n",
              "            console.log([gd, 'removed!']);\n",
              "            Plotly.purge(gd);\n",
              "            observer.disconnect();\n",
              "        }}\n",
              "}});\n",
              "\n",
              "// Listen for the removal of the full notebook cells\n",
              "var notebookContainer = gd.closest('#notebook-container');\n",
              "if (notebookContainer) {{\n",
              "    x.observe(notebookContainer, {childList: true});\n",
              "}}\n",
              "\n",
              "// Listen for the clearing of the current output cell\n",
              "var outputEl = gd.closest('.output');\n",
              "if (outputEl) {{\n",
              "    x.observe(outputEl, {childList: true});\n",
              "}}\n",
              "\n",
              "                        })                };                            </script>        </div>\n",
              "</body>\n",
              "</html>"
            ]
          },
          "metadata": {}
        }
      ]
    },
    {
      "cell_type": "markdown",
      "source": [
        "Podemos observar que donde se concentra la mayor cantidad de registros para **# Shares** es en 80000"
      ],
      "metadata": {
        "id": "AD1Ohvyzfg9_"
      }
    },
    {
      "cell_type": "markdown",
      "source": [
        "### Filtrar Data"
      ],
      "metadata": {
        "id": "SWuNwiXBgEH0"
      }
    },
    {
      "cell_type": "code",
      "source": [
        "# Filtramos la data para trabajar con \"Word count\"<=3500 y \"# Shares\"<=80000\n",
        "data_ml=data[(data['Word count']<=3500) & (data['# Shares']<=80000)]\n",
        "\n",
        "# Mostramos los primeros registros de la data filtrada\n",
        "\n",
        "data_ml[['Word count','# Shares']].head(10)"
      ],
      "metadata": {
        "colab": {
          "base_uri": "https://localhost:8080/",
          "height": 363
        },
        "id": "uEH0WtSCfehB",
        "outputId": "6add9c02-7ad3-44a8-991b-5f814bf552e0"
      },
      "execution_count": null,
      "outputs": [
        {
          "output_type": "execute_result",
          "data": {
            "text/plain": [
              "    Word count  # Shares\n",
              "1         1742     25000\n",
              "2          962     42000\n",
              "5          761     21000\n",
              "7          753     77000\n",
              "8         1118     59400\n",
              "9         1581     35000\n",
              "13         256     29000\n",
              "14        1267     37000\n",
              "15         971     67300\n",
              "16         369     60100"
            ],
            "text/html": [
              "\n",
              "  <div id=\"df-da106007-b708-4dd6-9049-f6ac38bd03a5\">\n",
              "    <div class=\"colab-df-container\">\n",
              "      <div>\n",
              "<style scoped>\n",
              "    .dataframe tbody tr th:only-of-type {\n",
              "        vertical-align: middle;\n",
              "    }\n",
              "\n",
              "    .dataframe tbody tr th {\n",
              "        vertical-align: top;\n",
              "    }\n",
              "\n",
              "    .dataframe thead th {\n",
              "        text-align: right;\n",
              "    }\n",
              "</style>\n",
              "<table border=\"1\" class=\"dataframe\">\n",
              "  <thead>\n",
              "    <tr style=\"text-align: right;\">\n",
              "      <th></th>\n",
              "      <th>Word count</th>\n",
              "      <th># Shares</th>\n",
              "    </tr>\n",
              "  </thead>\n",
              "  <tbody>\n",
              "    <tr>\n",
              "      <th>1</th>\n",
              "      <td>1742</td>\n",
              "      <td>25000</td>\n",
              "    </tr>\n",
              "    <tr>\n",
              "      <th>2</th>\n",
              "      <td>962</td>\n",
              "      <td>42000</td>\n",
              "    </tr>\n",
              "    <tr>\n",
              "      <th>5</th>\n",
              "      <td>761</td>\n",
              "      <td>21000</td>\n",
              "    </tr>\n",
              "    <tr>\n",
              "      <th>7</th>\n",
              "      <td>753</td>\n",
              "      <td>77000</td>\n",
              "    </tr>\n",
              "    <tr>\n",
              "      <th>8</th>\n",
              "      <td>1118</td>\n",
              "      <td>59400</td>\n",
              "    </tr>\n",
              "    <tr>\n",
              "      <th>9</th>\n",
              "      <td>1581</td>\n",
              "      <td>35000</td>\n",
              "    </tr>\n",
              "    <tr>\n",
              "      <th>13</th>\n",
              "      <td>256</td>\n",
              "      <td>29000</td>\n",
              "    </tr>\n",
              "    <tr>\n",
              "      <th>14</th>\n",
              "      <td>1267</td>\n",
              "      <td>37000</td>\n",
              "    </tr>\n",
              "    <tr>\n",
              "      <th>15</th>\n",
              "      <td>971</td>\n",
              "      <td>67300</td>\n",
              "    </tr>\n",
              "    <tr>\n",
              "      <th>16</th>\n",
              "      <td>369</td>\n",
              "      <td>60100</td>\n",
              "    </tr>\n",
              "  </tbody>\n",
              "</table>\n",
              "</div>\n",
              "      <button class=\"colab-df-convert\" onclick=\"convertToInteractive('df-da106007-b708-4dd6-9049-f6ac38bd03a5')\"\n",
              "              title=\"Convert this dataframe to an interactive table.\"\n",
              "              style=\"display:none;\">\n",
              "        \n",
              "  <svg xmlns=\"http://www.w3.org/2000/svg\" height=\"24px\"viewBox=\"0 0 24 24\"\n",
              "       width=\"24px\">\n",
              "    <path d=\"M0 0h24v24H0V0z\" fill=\"none\"/>\n",
              "    <path d=\"M18.56 5.44l.94 2.06.94-2.06 2.06-.94-2.06-.94-.94-2.06-.94 2.06-2.06.94zm-11 1L8.5 8.5l.94-2.06 2.06-.94-2.06-.94L8.5 2.5l-.94 2.06-2.06.94zm10 10l.94 2.06.94-2.06 2.06-.94-2.06-.94-.94-2.06-.94 2.06-2.06.94z\"/><path d=\"M17.41 7.96l-1.37-1.37c-.4-.4-.92-.59-1.43-.59-.52 0-1.04.2-1.43.59L10.3 9.45l-7.72 7.72c-.78.78-.78 2.05 0 2.83L4 21.41c.39.39.9.59 1.41.59.51 0 1.02-.2 1.41-.59l7.78-7.78 2.81-2.81c.8-.78.8-2.07 0-2.86zM5.41 20L4 18.59l7.72-7.72 1.47 1.35L5.41 20z\"/>\n",
              "  </svg>\n",
              "      </button>\n",
              "      \n",
              "  <style>\n",
              "    .colab-df-container {\n",
              "      display:flex;\n",
              "      flex-wrap:wrap;\n",
              "      gap: 12px;\n",
              "    }\n",
              "\n",
              "    .colab-df-convert {\n",
              "      background-color: #E8F0FE;\n",
              "      border: none;\n",
              "      border-radius: 50%;\n",
              "      cursor: pointer;\n",
              "      display: none;\n",
              "      fill: #1967D2;\n",
              "      height: 32px;\n",
              "      padding: 0 0 0 0;\n",
              "      width: 32px;\n",
              "    }\n",
              "\n",
              "    .colab-df-convert:hover {\n",
              "      background-color: #E2EBFA;\n",
              "      box-shadow: 0px 1px 2px rgba(60, 64, 67, 0.3), 0px 1px 3px 1px rgba(60, 64, 67, 0.15);\n",
              "      fill: #174EA6;\n",
              "    }\n",
              "\n",
              "    [theme=dark] .colab-df-convert {\n",
              "      background-color: #3B4455;\n",
              "      fill: #D2E3FC;\n",
              "    }\n",
              "\n",
              "    [theme=dark] .colab-df-convert:hover {\n",
              "      background-color: #434B5C;\n",
              "      box-shadow: 0px 1px 3px 1px rgba(0, 0, 0, 0.15);\n",
              "      filter: drop-shadow(0px 1px 2px rgba(0, 0, 0, 0.3));\n",
              "      fill: #FFFFFF;\n",
              "    }\n",
              "  </style>\n",
              "\n",
              "      <script>\n",
              "        const buttonEl =\n",
              "          document.querySelector('#df-da106007-b708-4dd6-9049-f6ac38bd03a5 button.colab-df-convert');\n",
              "        buttonEl.style.display =\n",
              "          google.colab.kernel.accessAllowed ? 'block' : 'none';\n",
              "\n",
              "        async function convertToInteractive(key) {\n",
              "          const element = document.querySelector('#df-da106007-b708-4dd6-9049-f6ac38bd03a5');\n",
              "          const dataTable =\n",
              "            await google.colab.kernel.invokeFunction('convertToInteractive',\n",
              "                                                     [key], {});\n",
              "          if (!dataTable) return;\n",
              "\n",
              "          const docLinkHtml = 'Like what you see? Visit the ' +\n",
              "            '<a target=\"_blank\" href=https://colab.research.google.com/notebooks/data_table.ipynb>data table notebook</a>'\n",
              "            + ' to learn more about interactive tables.';\n",
              "          element.innerHTML = '';\n",
              "          dataTable['output_type'] = 'display_data';\n",
              "          await google.colab.output.renderOutput(dataTable, element);\n",
              "          const docLink = document.createElement('div');\n",
              "          docLink.innerHTML = docLinkHtml;\n",
              "          element.appendChild(docLink);\n",
              "        }\n",
              "      </script>\n",
              "    </div>\n",
              "  </div>\n",
              "  "
            ]
          },
          "metadata": {},
          "execution_count": 13
        }
      ]
    },
    {
      "cell_type": "markdown",
      "source": [
        "### Regresión Lineal Simple (SLR)\n",
        "- Variable predictora (independiente): **Word count**, eje X\n",
        "- Variable objetivo (dependiente): **# Shares**, eje Y"
      ],
      "metadata": {
        "id": "8Na-SRNekYXn"
      }
    },
    {
      "cell_type": "markdown",
      "source": [
        "#### Correlación de variables"
      ],
      "metadata": {
        "id": "OsRROsZbl8ql"
      }
    },
    {
      "cell_type": "code",
      "source": [
        "# Correlación entre \"horsepower y \"price\"\n",
        "import scipy\n",
        "from scipy import stats # importando scipy.stats\n",
        "person_coef, p_value=stats.pearsonr(data_ml['Word count'], data_ml['# Shares'])\n",
        "print(person_coef,p_value)\n",
        "# Pearson correlation: 0.23\n",
        "# P: 0.004"
      ],
      "metadata": {
        "colab": {
          "base_uri": "https://localhost:8080/"
        },
        "id": "kwpLUFummQIL",
        "outputId": "d46d915e-5c38-43c3-b517-b015880b2090"
      },
      "execution_count": null,
      "outputs": [
        {
          "output_type": "stream",
          "name": "stdout",
          "text": [
            "0.23494344600246747 0.004048967525697524\n"
          ]
        }
      ]
    },
    {
      "cell_type": "markdown",
      "source": [
        "Existe una CORRELACIÓN NEGATIVA"
      ],
      "metadata": {
        "id": "3m7crEpLqBvs"
      }
    },
    {
      "cell_type": "code",
      "source": [
        "# Importamos el modelo lineal\n",
        "from sklearn.linear_model import LinearRegression"
      ],
      "metadata": {
        "id": "eg4sJIMkqyXV"
      },
      "execution_count": null,
      "outputs": []
    },
    {
      "cell_type": "code",
      "source": [
        "#Creamos un objeto de regresión lineal utilizando el constructor\n",
        "lm=LinearRegression()"
      ],
      "metadata": {
        "id": "IrWsSyEjq6PP"
      },
      "execution_count": null,
      "outputs": []
    },
    {
      "cell_type": "code",
      "source": [
        "# Definimos variable PREDICTORA y OBJETIVO\n",
        "x_train=data_ml[[\"Word count\"]]\n",
        "y_train=data_ml[\"# Shares\"]"
      ],
      "metadata": {
        "id": "UGTBdwWWq-vA"
      },
      "execution_count": null,
      "outputs": []
    },
    {
      "cell_type": "code",
      "source": [
        "# Entrenamos el modelo\n",
        "lm.fit(x_train,y_train) #para los parámetros b0 y b1"
      ],
      "metadata": {
        "colab": {
          "base_uri": "https://localhost:8080/"
        },
        "id": "Eiq4s7WErffw",
        "outputId": "e3963b98-919e-48ce-e6d0-b710caece927"
      },
      "execution_count": null,
      "outputs": [
        {
          "output_type": "execute_result",
          "data": {
            "text/plain": [
              "LinearRegression()"
            ]
          },
          "metadata": {},
          "execution_count": 18
        }
      ]
    },
    {
      "cell_type": "code",
      "source": [
        "# Predecir\n",
        "Yhat=lm.predict(x_train)\n",
        "Yhat"
      ],
      "metadata": {
        "colab": {
          "base_uri": "https://localhost:8080/"
        },
        "id": "yGPEs2Feryl5",
        "outputId": "f0f9da12-99ed-4065-8b52-75fdb7253e07"
      },
      "execution_count": null,
      "outputs": [
        {
          "output_type": "execute_result",
          "data": {
            "text/plain": [
              "array([21125.61589425, 16681.44604148, 15536.21765635, 15490.63642709,\n",
              "       17570.28001204, 20208.29365541, 12658.90255937, 18419.23040699,\n",
              "       16732.7249244 , 13302.73742265, 14818.31329552, 20493.17633828,\n",
              "       14453.66346144, 18795.27554837, 13274.24915436, 14134.59485663,\n",
              "       17667.14012421, 14994.9405589 , 15684.35665144, 13599.01541284,\n",
              "       17268.30436819, 16373.77274398, 18379.34683139, 16613.07419759,\n",
              "       21233.87131374, 16390.86570496, 16732.7249244 , 13809.82859816,\n",
              "       13809.82859816, 15655.86838315, 23051.42283044, 12624.71663742,\n",
              "       21245.26662105, 14903.77810038, 17946.32515342, 16652.9577732 ,\n",
              "       14772.73206626, 16299.70324644, 17450.62928523, 18390.7421387 ,\n",
              "       21102.82527962, 21530.14930392, 24874.67200081, 14972.14994427,\n",
              "       15758.42614899, 13291.34211534, 14089.01362737, 16852.3756512 ,\n",
              "       14043.43239811, 14727.150837  , 17764.00023639, 24663.85881549,\n",
              "       16829.58503658, 15524.82234903, 17456.32693889, 27136.64050279,\n",
              "       17581.67531935, 25376.06552266, 22874.79556707, 25683.73882016,\n",
              "       16960.6310707 , 23672.4670791 , 21820.72964045, 16840.98034389,\n",
              "       21119.91824059, 18202.71956801, 28150.82285381, 21820.72964045,\n",
              "       25216.53122025, 23370.49143526, 27341.75603446, 22567.12226957,\n",
              "       24487.23155211, 22584.21523054, 30811.62711181, 26561.1774834 ,\n",
              "       22099.91466966, 21786.5437185 , 25199.43825928, 25968.62150303,\n",
              "       20988.87220647, 18567.36940208, 28424.31022936, 31056.62621908,\n",
              "       23125.49232799, 19689.80717258, 18253.99845092, 25917.34262011,\n",
              "       16937.84045607, 16772.6085    , 28401.51961473, 24572.69635697,\n",
              "       23871.88495711, 21330.73142591, 17752.60492907, 25603.97166896,\n",
              "       25364.67021535, 24401.76674725, 24698.04473743, 20384.92091879,\n",
              "       17672.83777787, 26703.61882483, 31028.13795079, 17712.72135347,\n",
              "       25034.20630322, 27592.45279538, 15621.68246121, 18516.09051916,\n",
              "       17724.11666079, 21416.19623077, 27746.28944413, 19592.94706041,\n",
              "       27689.31290756, 22208.17008915, 29575.23626816, 29347.33012186,\n",
              "       22983.05098656, 24612.57993257, 27843.14955631, 23797.81545956,\n",
              "       27524.0809515 , 20738.17544554, 24202.34886924, 26219.31826395,\n",
              "       15610.28715389, 17068.88649019, 15382.3810076 , 15433.65989051,\n",
              "       19826.55086036, 27461.40676126, 19422.01745069, 21552.93991855,\n",
              "       18413.53275333, 24162.46529364, 18402.13744601, 23803.51311322,\n",
              "       21860.61321605, 25518.50686409, 19422.01745069, 16396.56335861,\n",
              "       24680.95177646, 19986.08516277, 18043.1852656 , 29655.00341936,\n",
              "       25820.48250794, 23102.70171336, 19917.71331888, 16630.16715857])"
            ]
          },
          "metadata": {},
          "execution_count": 19
        }
      ]
    },
    {
      "cell_type": "code",
      "source": [
        "# Predecir: ¿CUÁNTOS VECES SERÁ COMPARTIDO UN BLOG DE 2000 PALABRAS?\n",
        "prueba=lm.predict([[2000]])\n",
        "print(int(prueba))"
      ],
      "metadata": {
        "colab": {
          "base_uri": "https://localhost:8080/"
        },
        "id": "Ycue38j5r71a",
        "outputId": "d5649ddb-0792-4881-b121-c158f82cfcbd"
      },
      "execution_count": null,
      "outputs": [
        {
          "output_type": "stream",
          "name": "stdout",
          "text": [
            "22595\n"
          ]
        },
        {
          "output_type": "stream",
          "name": "stderr",
          "text": [
            "/usr/local/lib/python3.8/dist-packages/sklearn/base.py:450: UserWarning:\n",
            "\n",
            "X does not have valid feature names, but LinearRegression was fitted with feature names\n",
            "\n"
          ]
        }
      ]
    },
    {
      "cell_type": "markdown",
      "source": [
        "##### Usando la fórmula:"
      ],
      "metadata": {
        "id": "kfc-h3pQxN9v"
      }
    },
    {
      "cell_type": "code",
      "source": [
        "#Obtener el INTERCEPTO (b0)\n",
        "lm.intercept_"
      ],
      "metadata": {
        "colab": {
          "base_uri": "https://localhost:8080/"
        },
        "id": "4Fiba5pbxRV2",
        "outputId": "1c86afd4-4f81-4249-ac1a-7684417386d2"
      },
      "execution_count": null,
      "outputs": [
        {
          "output_type": "execute_result",
          "data": {
            "text/plain": [
              "11200.30322307416"
            ]
          },
          "metadata": {},
          "execution_count": 21
        }
      ]
    },
    {
      "cell_type": "code",
      "source": [
        "#Obtener PENDIENTE (b1)\n",
        "lm.coef_"
      ],
      "metadata": {
        "colab": {
          "base_uri": "https://localhost:8080/"
        },
        "id": "ztxF8bxeCEjf",
        "outputId": "c1114ecb-6bda-446f-cc78-a7ff30c82fbd"
      },
      "execution_count": null,
      "outputs": [
        {
          "output_type": "execute_result",
          "data": {
            "text/plain": [
              "array([5.69765366])"
            ]
          },
          "metadata": {},
          "execution_count": 22
        }
      ]
    },
    {
      "cell_type": "code",
      "source": [
        "# Predecir los COMPARTIDOS cuando la CANTIDAD DE PALABRAS de un blog es 2000\n",
        "#Compartidos= b0 + b1*x\n",
        "Compartido=lm.intercept_ + lm.coef_ * 2000\n",
        "Compartido"
      ],
      "metadata": {
        "colab": {
          "base_uri": "https://localhost:8080/"
        },
        "id": "R9sInQOMCIv8",
        "outputId": "f86a2f33-9717-4ee6-c9ac-8404b92f7633"
      },
      "execution_count": null,
      "outputs": [
        {
          "output_type": "execute_result",
          "data": {
            "text/plain": [
              "array([22595.61053785])"
            ]
          },
          "metadata": {},
          "execution_count": 23
        }
      ]
    },
    {
      "cell_type": "markdown",
      "source": [
        "#### Evaluar modelo mediante visualización"
      ],
      "metadata": {
        "id": "HN2vVnrastUF"
      }
    },
    {
      "cell_type": "code",
      "source": [
        "# Importamos librerías necesarias\n",
        "import seaborn as sns\n",
        "import matplotlib.pyplot as plt"
      ],
      "metadata": {
        "id": "uFvltSMPuj3y"
      },
      "execution_count": null,
      "outputs": []
    },
    {
      "cell_type": "code",
      "source": [
        "# Definimos variables para los gráficos\n",
        "x=data_ml[\"Word count\"] # predictora\n",
        "y=data_ml[\"# Shares\"] # objetivo"
      ],
      "metadata": {
        "id": "hG2x23-6vkTk"
      },
      "execution_count": null,
      "outputs": []
    },
    {
      "cell_type": "code",
      "source": [
        "# GRÁFICO DE DISPERSIÓN\n",
        "\n",
        "sns.regplot(x, y, data=data_ml)\n",
        "plt.ylim(0,)"
      ],
      "metadata": {
        "colab": {
          "base_uri": "https://localhost:8080/",
          "height": 388
        },
        "id": "l5KN2NmWonmD",
        "outputId": "ce0c5b47-a5ad-4853-d1b8-68a8214c07cc"
      },
      "execution_count": null,
      "outputs": [
        {
          "output_type": "stream",
          "name": "stderr",
          "text": [
            "/usr/local/lib/python3.8/dist-packages/seaborn/_decorators.py:36: FutureWarning:\n",
            "\n",
            "Pass the following variables as keyword args: x, y. From version 0.12, the only valid positional argument will be `data`, and passing other arguments without an explicit keyword will result in an error or misinterpretation.\n",
            "\n"
          ]
        },
        {
          "output_type": "execute_result",
          "data": {
            "text/plain": [
              "(0.0, 80850.0)"
            ]
          },
          "metadata": {},
          "execution_count": 26
        },
        {
          "output_type": "display_data",
          "data": {
            "text/plain": [
              "<Figure size 432x288 with 1 Axes>"
            ],
            "image/png": "[encoded data removed]"
          },
          "metadata": {
            "needs_background": "light"
          }
        }
      ]
    },
    {
      "cell_type": "code",
      "source": [
        "# GRÁFICO RESIDUAL\n",
        "\n",
        "sns.residplot(x, y) \n",
        "#Sintaxis: ([variables independientes], [variables dependientes])"
      ],
      "metadata": {
        "colab": {
          "base_uri": "https://localhost:8080/",
          "height": 386
        },
        "id": "ntpjJJghv0Hm",
        "outputId": "5f468a51-6f8d-43ca-d69b-a0362753588a"
      },
      "execution_count": null,
      "outputs": [
        {
          "output_type": "stream",
          "name": "stderr",
          "text": [
            "/usr/local/lib/python3.8/dist-packages/seaborn/_decorators.py:36: FutureWarning:\n",
            "\n",
            "Pass the following variables as keyword args: x, y. From version 0.12, the only valid positional argument will be `data`, and passing other arguments without an explicit keyword will result in an error or misinterpretation.\n",
            "\n"
          ]
        },
        {
          "output_type": "execute_result",
          "data": {
            "text/plain": [
              "<matplotlib.axes._subplots.AxesSubplot at 0x7fefcd407bb0>"
            ]
          },
          "metadata": {},
          "execution_count": 27
        },
        {
          "output_type": "display_data",
          "data": {
            "text/plain": [
              "<Figure size 432x288 with 1 Axes>"
            ],
            "image/png": "[encoded data removed]"
          },
          "metadata": {
            "needs_background": "light"
          }
        }
      ]
    },
    {
      "cell_type": "code",
      "source": [
        "# GRÁFICO DE IDSTRIBUCIÓN\n",
        "\n",
        "# Compara el valor predicho frente al valor real.\n",
        "\n",
        "ax1= sns.distplot(y, hist=False, color=\"r\", label=\"Actual Value\")\n",
        "sns.distplot(Yhat, hist=False, color=\"b\", label=\"Fitted Values\", ax=ax1)\n",
        "\n",
        "# Podemos observar que la predicción no está siendo precisa con la variable independiente"
      ],
      "metadata": {
        "colab": {
          "base_uri": "https://localhost:8080/",
          "height": 466
        },
        "id": "W4firC3csxXY",
        "outputId": "09636363-4dcc-4a17-8868-2e4c0519a26d"
      },
      "execution_count": null,
      "outputs": [
        {
          "output_type": "stream",
          "name": "stderr",
          "text": [
            "/usr/local/lib/python3.8/dist-packages/seaborn/distributions.py:2619: FutureWarning:\n",
            "\n",
            "`distplot` is a deprecated function and will be removed in a future version. Please adapt your code to use either `displot` (a figure-level function with similar flexibility) or `kdeplot` (an axes-level function for kernel density plots).\n",
            "\n",
            "/usr/local/lib/python3.8/dist-packages/seaborn/distributions.py:2619: FutureWarning:\n",
            "\n",
            "`distplot` is a deprecated function and will be removed in a future version. Please adapt your code to use either `displot` (a figure-level function with similar flexibility) or `kdeplot` (an axes-level function for kernel density plots).\n",
            "\n"
          ]
        },
        {
          "output_type": "execute_result",
          "data": {
            "text/plain": [
              "<matplotlib.axes._subplots.AxesSubplot at 0x7fefcd4797f0>"
            ]
          },
          "metadata": {},
          "execution_count": 28
        },
        {
          "output_type": "display_data",
          "data": {
            "text/plain": [
              "<Figure size 432x288 with 1 Axes>"
            ],
            "image/png": "[encoded data removed]"
          },
          "metadata": {
            "needs_background": "light"
          }
        }
      ]
    },
    {
      "cell_type": "markdown",
      "source": [
        "**Podemos observar que no existe una CORRELACIÓN y los valores predichos no son precisos con respecto a los valores reales**.\n",
        "- Se debe tomar más **variables predictoras** para un mejor modelo."
      ],
      "metadata": {
        "id": "pJt7t7ufwF-d"
      }
    },
    {
      "cell_type": "markdown",
      "source": [
        "### Regresión lineal múltiple (MLR)\n",
        "- Una variable objetivo : **# Shares**\n",
        "- Dos o más variable predictoras: **Word count, # of Links, # of comments, # Images video**"
      ],
      "metadata": {
        "id": "dONuzwQvCr0j"
      }
    },
    {
      "cell_type": "code",
      "source": [
        "# Ajustar Modelo\n",
        "# Creamos una variable y extraemos las 4 variables predictoras\n",
        "z=data_ml[['Word count','# of Links','# of comments','# Images video']]"
      ],
      "metadata": {
        "id": "nXvfhtj6weDa"
      },
      "execution_count": null,
      "outputs": []
    },
    {
      "cell_type": "code",
      "source": [
        "# Entrenamos el modelo\n",
        "lm.fit(z,data_ml['# Shares']) #(variables_predictoras,variable_objetivo)"
      ],
      "metadata": {
        "colab": {
          "base_uri": "https://localhost:8080/"
        },
        "id": "iJLLV9tiKVfP",
        "outputId": "197ed6e2-c2c5-40d3-952f-3e9ebe4f46b7"
      },
      "execution_count": null,
      "outputs": [
        {
          "output_type": "execute_result",
          "data": {
            "text/plain": [
              "LinearRegression()"
            ]
          },
          "metadata": {},
          "execution_count": 30
        }
      ]
    },
    {
      "cell_type": "code",
      "source": [
        "# Obtener predicción\n",
        "Yhat_mul=lm.predict(z)\n",
        "Yhat_mul"
      ],
      "metadata": {
        "colab": {
          "base_uri": "https://localhost:8080/"
        },
        "id": "PV3P1ZSFKjKK",
        "outputId": "a9d613d0-7b56-4f3b-bac3-8a4689641a29"
      },
      "execution_count": null,
      "outputs": [
        {
          "output_type": "execute_result",
          "data": {
            "text/plain": [
              "array([13316.56454415, 19739.66923589, 20005.46691477, 19784.75544252,\n",
              "       21389.47198993, 22355.42793115, 13793.75270645, 19037.42303995,\n",
              "       16693.56957848, 14653.16282102, 17757.23623435, 14306.83029653,\n",
              "       16900.67825129, 16660.49710629, 13981.62212287, 13045.4122    ,\n",
              "       19928.32587993, 16538.60060427, 19538.01967413, 16861.44016115,\n",
              "       19815.87886633, 20025.21562832, 21058.56082359, 18427.60542148,\n",
              "       -5754.23814863, 13989.83271902, 17924.97265382, 17696.85704337,\n",
              "       15654.95253017, 16863.75945812, 24617.9196655 , 14788.48420161,\n",
              "       22807.77426893, 13628.96504369,  4516.46959276, 17070.23452416,\n",
              "       15342.47923198, 19637.06059034, 21253.04635377,  8623.97514563,\n",
              "        2535.42520351, 19607.35432737, 15242.92565857, 15107.06542674,\n",
              "       16346.46281814, 15107.78527308, 12736.45318865,  7902.83399947,\n",
              "       12983.35708619, 15178.13250059, 16591.31182537, 25222.31121621,\n",
              "       22246.65401533, 11720.00962077, 16240.50304667,  -141.1669292 ,\n",
              "       19316.54989486, 21654.38721217, 13807.52952593, 28554.51440063,\n",
              "       14742.78361854, 19670.05778356, 22641.64189629, 16628.37951735,\n",
              "       21512.04562911, 17696.23807073, 33113.21326653, 23074.89777503,\n",
              "       28851.60822867, 24232.41016921, 30320.25462856, 19523.94727437,\n",
              "       23419.80109392, 23793.86320711, 34758.68995986, 30233.21246496,\n",
              "       20697.78482956, 22747.27542305, 27071.91016182, 25282.44570438,\n",
              "       23563.62038119, 14341.55449297, 31735.67585546, 30924.69467788,\n",
              "       25223.65050869, 22702.18414673, 15871.8904801 , 25841.03072862,\n",
              "       15289.25947638, 18908.38183815, 32001.03685149, 28742.09026794,\n",
              "       24481.09545948, 18745.74536755, 17178.19231613, 28348.48568335,\n",
              "       24439.55777621, 22413.95422544, 28405.04275193, 22551.99265168,\n",
              "       16497.01949208, 24876.73158135, 34062.79592016, 13675.61224026,\n",
              "       26442.72823902, 27273.72325653, 14256.1928484 , 19018.30803465,\n",
              "       18124.95126099, 19345.16711137, 29728.49094251, 20089.1722389 ,\n",
              "       29619.51585426, 24466.94519136, 33948.83179468, 29764.25320649,\n",
              "       24887.67373146, 26566.6891958 , 29478.86492962, 23625.32505171,\n",
              "       26737.80138891, 23417.56296681, 28285.46095068, 29368.28082631,\n",
              "       19766.91779018, 17549.30152557, 14828.20250498, 15628.45309051,\n",
              "       24116.3329889 , 31093.03543585, 18160.90053677, 22649.66041093,\n",
              "       19990.86580317, 23362.85501991, 19458.71827907, 21724.29730766,\n",
              "       20165.24298411, 25565.25037908, 21162.74427204, 12189.40675532,\n",
              "       28879.9994992 , 17819.98322092, 23630.39975354, 34238.0560069 ,\n",
              "       27008.70773556, 27379.3559621 , 20300.38160141, 16569.10458194])"
            ]
          },
          "metadata": {},
          "execution_count": 31
        }
      ]
    },
    {
      "cell_type": "code",
      "source": [
        "# Predecir, ¿CUÁNTOS COMPARTIDOS TENDRÁ UN BLOG DE 2000 PALABRAS, CON 10 ENLACES, 4 COMENTARIOSY 6 IMAGENES?\n",
        "prediccion=lm.predict([[2000,10,4,6]])\n",
        "print(int(prediccion))"
      ],
      "metadata": {
        "colab": {
          "base_uri": "https://localhost:8080/"
        },
        "id": "pUhsxVFsWEvN",
        "outputId": "3d615e83-ba0e-4bf5-b834-4803c4f5b87e"
      },
      "execution_count": null,
      "outputs": [
        {
          "output_type": "stream",
          "name": "stdout",
          "text": [
            "18462\n"
          ]
        },
        {
          "output_type": "stream",
          "name": "stderr",
          "text": [
            "/usr/local/lib/python3.8/dist-packages/sklearn/base.py:450: UserWarning:\n",
            "\n",
            "X does not have valid feature names, but LinearRegression was fitted with feature names\n",
            "\n"
          ]
        }
      ]
    },
    {
      "cell_type": "markdown",
      "source": [
        "### Evaluación del modelo mediante visualización"
      ],
      "metadata": {
        "id": "h4o4Q5ggXkQB"
      }
    },
    {
      "cell_type": "code",
      "source": [
        "ax1= sns.distplot(data_ml[\"# Shares\"], hist=False, color=\"r\", label=\"Actual Value\")\n",
        "sns.distplot(Yhat_mul, hist=False, color=\"b\", label=\"Fitted Values\", ax=ax1)"
      ],
      "metadata": {
        "colab": {
          "base_uri": "https://localhost:8080/",
          "height": 466
        },
        "id": "dfSZuXHlXhO2",
        "outputId": "04e1b84f-d77c-4451-b2a4-83fce3cde2cb"
      },
      "execution_count": null,
      "outputs": [
        {
          "output_type": "stream",
          "name": "stderr",
          "text": [
            "/usr/local/lib/python3.8/dist-packages/seaborn/distributions.py:2619: FutureWarning:\n",
            "\n",
            "`distplot` is a deprecated function and will be removed in a future version. Please adapt your code to use either `displot` (a figure-level function with similar flexibility) or `kdeplot` (an axes-level function for kernel density plots).\n",
            "\n",
            "/usr/local/lib/python3.8/dist-packages/seaborn/distributions.py:2619: FutureWarning:\n",
            "\n",
            "`distplot` is a deprecated function and will be removed in a future version. Please adapt your code to use either `displot` (a figure-level function with similar flexibility) or `kdeplot` (an axes-level function for kernel density plots).\n",
            "\n"
          ]
        },
        {
          "output_type": "execute_result",
          "data": {
            "text/plain": [
              "<matplotlib.axes._subplots.AxesSubplot at 0x7fefcaf4aeb0>"
            ]
          },
          "metadata": {},
          "execution_count": 33
        },
        {
          "output_type": "display_data",
          "data": {
            "text/plain": [
              "<Figure size 432x288 with 1 Axes>"
            ],
            "image/png": "[encoded data removed]"
          },
          "metadata": {
            "needs_background": "light"
          }
        }
      ]
    },
    {
      "cell_type": "markdown",
      "source": [
        "Podemos observar que aún los valores predichos con respecot a lso valores reales no son precisos.\n",
        "- Se necesitará ajustar el modelo."
      ],
      "metadata": {
        "id": "SdgfMElSWjr2"
      }
    },
    {
      "cell_type": "markdown",
      "source": [
        "### Canalización\n",
        "- Podemos simplificar nuestro código con una librería de canalización.\n",
        "- Hay muchas formas de obtener una predicción, mediante: Normalización, transformación polinomial y regresión lineal.\n"
      ],
      "metadata": {
        "id": "hJU5ydDeWwZs"
      }
    },
    {
      "cell_type": "code",
      "source": [
        "# Importamos los módulos necesarios\n",
        "from sklearn.preprocessing import PolynomialFeatures\n",
        "from sklearn.linear_model import LinearRegression\n",
        "from sklearn.preprocessing import StandardScaler\n",
        "from sklearn.pipeline import Pipeline"
      ],
      "metadata": {
        "id": "NvA52W3NW3zb"
      },
      "execution_count": null,
      "outputs": []
    },
    {
      "cell_type": "code",
      "source": [
        "# El primer elemento de la tupla contiene el nombre del estimador: modelo.\n",
        "# El segundo elemento contiene el constructor de modelos.\n",
        "Input=[('scale', StandardScaler()),('polynomial', PolynomialFeatures(degree=2)),('model', LinearRegression())]"
      ],
      "metadata": {
        "id": "BDIZq8peW4-e"
      },
      "execution_count": null,
      "outputs": []
    },
    {
      "cell_type": "code",
      "source": [
        "# Inresar la lista en el constructor de canalización\n",
        "pipe=Pipeline(Input)"
      ],
      "metadata": {
        "id": "SZeu6d7xW87u"
      },
      "execution_count": null,
      "outputs": []
    },
    {
      "cell_type": "code",
      "source": [
        "# Entrenar canalización\n",
        "x_predict= data_ml[['Word count','# of Links','# of comments','# Images video']]\n",
        "y= data_ml['# Shares']\n",
        "pipe.fit(x_predict,y)"
      ],
      "metadata": {
        "colab": {
          "base_uri": "https://localhost:8080/"
        },
        "id": "k2PEIhBwXAq8",
        "outputId": "d8ba2c8c-c833-4cd6-df95-bcfe8a60fd7a"
      },
      "execution_count": null,
      "outputs": [
        {
          "output_type": "execute_result",
          "data": {
            "text/plain": [
              "Pipeline(steps=[('scale', StandardScaler()),\n",
              "                ('polynomial', PolynomialFeatures()),\n",
              "                ('model', LinearRegression())])"
            ]
          },
          "metadata": {},
          "execution_count": 49
        }
      ]
    },
    {
      "cell_type": "code",
      "source": [
        "# Predecir\n",
        "Yhat_pipe=pipe.predict(x_predict[['Word count','# of Links','# of comments','# Images video']])\n",
        "Yhat_pipe"
      ],
      "metadata": {
        "colab": {
          "base_uri": "https://localhost:8080/"
        },
        "id": "ZNE0cVwOXXwU",
        "outputId": "db3cddc0-f20e-495d-f303-c0ada33d37b9"
      },
      "execution_count": null,
      "outputs": [
        {
          "output_type": "execute_result",
          "data": {
            "text/plain": [
              "array([13999.2636105 , 16551.30931175, 24488.18831486, 15037.43799686,\n",
              "       25909.05288681, 25954.10696825, 16913.58647116, 21952.93730067,\n",
              "       19180.90908242, 17130.77448505, 12298.69583017, 12745.40842102,\n",
              "       20222.09276785, 18961.99331334, 15742.52741371, 12219.4299253 ,\n",
              "       17729.4985466 ,  8312.14447684, 15124.78700617, 20100.50055881,\n",
              "       23605.69992567, 24351.71336138, 22809.3085739 , 21883.66915561,\n",
              "         576.16594542,  7991.55178706, 21167.47147979,  8742.50574215,\n",
              "        5382.63977134, 17974.89077091, 23411.93301146,  6494.51482561,\n",
              "        4794.49709993,  6644.84369967, -2453.15984581, 19805.40358578,\n",
              "       12687.82127753, 25917.62604969, 25760.79846201,  7033.75022623,\n",
              "        4422.2604061 , 22057.86696945, 12387.04637703, 16185.06502889,\n",
              "       19153.79346557, 17731.98933141, 16646.10278894, -3503.05085735,\n",
              "       12262.49258014, 13854.31322064, 19084.51431134, 27428.836116  ,\n",
              "       18797.63828867,  9332.38474716, 18683.17434408,   951.71469396,\n",
              "       12575.30175362, 21987.48355294,  3403.16010882, 28499.46217655,\n",
              "       11711.69901514, 22073.87240836, 24047.4856849 , 18594.34223213,\n",
              "       24604.6071213 , 18927.94725042, 33906.21187223, 27029.28457618,\n",
              "       29529.04095427, 26441.61263627, 30701.21089868, 21038.77688613,\n",
              "       22494.86723025, 25143.89093063, 29773.07375385, 30513.85103396,\n",
              "       18159.19673838, 24675.36779262, 28612.19442395, 26935.17846605,\n",
              "       27378.78083632, 15047.25650648, 29402.36029451, 28682.91577625,\n",
              "       25648.39325301, 21879.48830994, 17747.33467333, 28228.59077898,\n",
              "       14577.93371503, 15950.53468747, 32350.01686581, 30519.68321855,\n",
              "       25413.77232603, 21800.16238139, 15346.75988131, 29709.96133958,\n",
              "       26117.96725266, 24133.2391629 , 30837.13415282, 24994.23474987,\n",
              "       20092.52771357, 23911.81433301, 24966.57608493, 12151.69472991,\n",
              "       27549.27273674, 27876.58352478, 12222.06570789, 20683.06554108,\n",
              "       21936.91277479, 20994.9222117 , 19554.97504081, 23916.77817322,\n",
              "       29991.43821053, 24285.87797979, 34797.42897643, 30059.46984829,\n",
              "       26423.18760839, 29574.37798286, 27604.8614528 , 25108.42501623,\n",
              "       28075.60100231, 24160.54727118, 29085.30909324, 29289.28773702,\n",
              "       16611.3603719 , 20848.18987223, 17689.89289747, 13749.95725124,\n",
              "       28285.9340738 , 30986.87386857, 21700.22294977, 24227.53022302,\n",
              "       21167.90445669, 22961.83435859, 13568.3289211 , 23804.07505529,\n",
              "       21397.45493792, 26749.31361073, 24143.51689169, 15782.42891279,\n",
              "       28959.92260581, 13533.51917187, 21392.2385238 , 27654.57508987,\n",
              "       28919.02933248, 29873.92038449, 23994.6542618 , 20660.25016014])"
            ]
          },
          "metadata": {},
          "execution_count": 51
        }
      ]
    },
    {
      "cell_type": "code",
      "source": [
        "# Predecir: ¿CUANTOS COMPARTIDOS TENDRÁ UN BLOG CON 1000 PALABRAS, CON 15 ENLACES, 10 COMENARIOS Y 8 IMÁGENES?\n",
        "predict_pipe=pipe.predict([[1000,15,10,8]])\n",
        "print(int(predict_pipe))"
      ],
      "metadata": {
        "colab": {
          "base_uri": "https://localhost:8080/"
        },
        "id": "GaC63HMSZumG",
        "outputId": "baa34571-b6dd-4c7d-cb4e-52804432aaa3"
      },
      "execution_count": null,
      "outputs": [
        {
          "output_type": "stream",
          "name": "stdout",
          "text": [
            "7231\n"
          ]
        },
        {
          "output_type": "stream",
          "name": "stderr",
          "text": [
            "/usr/local/lib/python3.8/dist-packages/sklearn/base.py:450: UserWarning:\n",
            "\n",
            "X does not have valid feature names, but StandardScaler was fitted with feature names\n",
            "\n"
          ]
        }
      ]
    },
    {
      "cell_type": "markdown",
      "source": [
        "Observamos que la predicción es razonable pero en la evaluación por visualización aún es imprecisa la predicción."
      ],
      "metadata": {
        "id": "4zTrzcZqaYVe"
      }
    },
    {
      "cell_type": "markdown",
      "source": [
        "### Evaluación del Modelo mediante **división de conjuntos**\n",
        "- Nos dice cómo funciona nuestro modelo en el mundo real.\n",
        "- **Se debe dividir nuestros datos, usar los datos In-sample o los datos de entrenamiento para entrenar el modelo**\n",
        "- **El resto de los datos, denominados datos de prueba, se utilizan fuera de la muestra**\n",
        "- Los datos de prueba se utilizan para aproximar cómo se comporta el modelo en el mundo real.\n",
        "- Separar los datos en conjuntos de entrenamiento y prueba es una parte importante de la evaluación.\n"
      ],
      "metadata": {
        "id": "dVJObZMhdWQ9"
      }
    },
    {
      "cell_type": "code",
      "source": [
        "# La mayor parte se utilizan para el conjunto de datos de entrenamiento, por ejemplo: 70%\n",
        "# La menor parte se utilizan para el conjunto de datos de prueba, por ejemplo 30%"
      ],
      "metadata": {
        "id": "IcUrEnC3YCty"
      },
      "execution_count": null,
      "outputs": []
    },
    {
      "cell_type": "markdown",
      "source": [
        "#### Dividir conjunto de datos con la función \"train_test_split()\""
      ],
      "metadata": {
        "id": "Ajy3-LUwedZa"
      }
    },
    {
      "cell_type": "code",
      "source": [
        "# Importamos librería necesaria\n",
        "from sklearn.model_selection import train_test_split"
      ],
      "metadata": {
        "id": "0YSebBZueUQ4"
      },
      "execution_count": null,
      "outputs": []
    },
    {
      "cell_type": "code",
      "source": [
        "#Obtener datos de entrenamiento y prueba\n",
        "x_data= data_ml[['Word count','# of Links','# of comments','# Images video']] # variables predictoras\n",
        "y_data=data_ml[\"# Shares\"] # variable objetivo\n",
        "\n",
        "# x_train, y_train: subconjuntos para el entrenamiento\n",
        "# x_test, y_test: subconjuntos para la prueba\n",
        "\n",
        "# test_size= Es el tamaño de la prueba, como lo definimos como 30% = 0.3\n",
        "# random_state: objeto que controla la aleatorización durante la división\n",
        "\n",
        "x_train,x_test,y_train,y_test=train_test_split(x_data,y_data,test_size=0.2,random_state=0)"
      ],
      "metadata": {
        "id": "3Azw2jJEeloT"
      },
      "execution_count": null,
      "outputs": []
    },
    {
      "cell_type": "code",
      "source": [
        "# GRÁFICO DE REGRESIÓN - TRAIN\n",
        "ax1= sns.distplot(y_data, hist=False, color=\"r\", label=\"Actual Value\")\n",
        "sns.distplot(y_train, hist=False, color=\"b\", label=\"Predicted Values\", ax=ax1)"
      ],
      "metadata": {
        "colab": {
          "base_uri": "https://localhost:8080/",
          "height": 466
        },
        "id": "jMEvWjC4fNAZ",
        "outputId": "3dbd7207-e669-4668-d9c6-6c05afe27ede"
      },
      "execution_count": null,
      "outputs": [
        {
          "output_type": "stream",
          "name": "stderr",
          "text": [
            "/usr/local/lib/python3.8/dist-packages/seaborn/distributions.py:2619: FutureWarning:\n",
            "\n",
            "`distplot` is a deprecated function and will be removed in a future version. Please adapt your code to use either `displot` (a figure-level function with similar flexibility) or `kdeplot` (an axes-level function for kernel density plots).\n",
            "\n",
            "/usr/local/lib/python3.8/dist-packages/seaborn/distributions.py:2619: FutureWarning:\n",
            "\n",
            "`distplot` is a deprecated function and will be removed in a future version. Please adapt your code to use either `displot` (a figure-level function with similar flexibility) or `kdeplot` (an axes-level function for kernel density plots).\n",
            "\n"
          ]
        },
        {
          "output_type": "execute_result",
          "data": {
            "text/plain": [
              "<matplotlib.axes._subplots.AxesSubplot at 0x7fefc9c53970>"
            ]
          },
          "metadata": {},
          "execution_count": 75
        },
        {
          "output_type": "display_data",
          "data": {
            "text/plain": [
              "<Figure size 432x288 with 1 Axes>"
            ],
            "image/png": "[encoded data removed]"
          },
          "metadata": {
            "needs_background": "light"
          }
        }
      ]
    },
    {
      "cell_type": "markdown",
      "source": [
        "Podemos observar que los valores predichos y valores reales son muy precisos con valores aleatorios.\n",
        "- Uso del conjunto de datos de entrenamiento."
      ],
      "metadata": {
        "id": "aIUIfh1VfovG"
      }
    },
    {
      "cell_type": "code",
      "source": [
        "# GRÁFICO DE REGRESIÓN - TEST\n",
        "ax1= sns.distplot(y_data, hist=False, color=\"r\", label=\"Actual Value\")\n",
        "sns.distplot(y_test, hist=False, color=\"b\", label=\"Predicted Values\", ax=ax1)"
      ],
      "metadata": {
        "colab": {
          "base_uri": "https://localhost:8080/",
          "height": 466
        },
        "id": "1b6MQSIZfvmr",
        "outputId": "9fcca44d-f1a6-4d5b-b525-be0cd419e585"
      },
      "execution_count": null,
      "outputs": [
        {
          "output_type": "stream",
          "name": "stderr",
          "text": [
            "/usr/local/lib/python3.8/dist-packages/seaborn/distributions.py:2619: FutureWarning:\n",
            "\n",
            "`distplot` is a deprecated function and will be removed in a future version. Please adapt your code to use either `displot` (a figure-level function with similar flexibility) or `kdeplot` (an axes-level function for kernel density plots).\n",
            "\n",
            "/usr/local/lib/python3.8/dist-packages/seaborn/distributions.py:2619: FutureWarning:\n",
            "\n",
            "`distplot` is a deprecated function and will be removed in a future version. Please adapt your code to use either `displot` (a figure-level function with similar flexibility) or `kdeplot` (an axes-level function for kernel density plots).\n",
            "\n"
          ]
        },
        {
          "output_type": "execute_result",
          "data": {
            "text/plain": [
              "<matplotlib.axes._subplots.AxesSubplot at 0x7fefc9d17c40>"
            ]
          },
          "metadata": {},
          "execution_count": 76
        },
        {
          "output_type": "display_data",
          "data": {
            "text/plain": [
              "<Figure size 432x288 with 1 Axes>"
            ],
            "image/png": "[encoded data removed]"
          },
          "metadata": {
            "needs_background": "light"
          }
        }
      ]
    },
    {
      "cell_type": "markdown",
      "source": [
        "Podemos observar que los valores predichos con respecto a los valores reales varían un poco en comparación con el conjunto de datos de entrenamiento.\n",
        "- Uso del conjunto de datos de prueba"
      ],
      "metadata": {
        "id": "qrsfwdAFf_YL"
      }
    },
    {
      "cell_type": "markdown",
      "source": [
        "### EL MODELO ES VÁLIDADO CORRECTAMENTE"
      ],
      "metadata": {
        "id": "fu7065ip0fDE"
      }
    },
    {
      "cell_type": "code",
      "source": [],
      "metadata": {
        "id": "Ka-z_4H_0hPY"
      },
      "execution_count": null,
      "outputs": []
    }
  ]
}